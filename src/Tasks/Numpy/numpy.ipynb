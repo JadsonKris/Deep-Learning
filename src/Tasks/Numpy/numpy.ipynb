{
  "nbformat": 4,
  "nbformat_minor": 0,
  "metadata": {
    "colab": {
      "name": "numpy.ipynb",
      "provenance": [],
      "collapsed_sections": []
    },
    "kernelspec": {
      "name": "python3",
      "display_name": "Python 3"
    },
    "language_info": {
      "name": "python"
    }
  },
  "cells": [
    {
      "cell_type": "code",
      "metadata": {
        "id": "eAVkrSfEoNh5"
      },
      "source": [
        "import numpy as np"
      ],
      "execution_count": null,
      "outputs": []
    },
    {
      "cell_type": "markdown",
      "metadata": {
        "id": "ZBDPcv0iOxLm"
      },
      "source": [
        "# NumPy Array\n"
      ]
    },
    {
      "cell_type": "code",
      "metadata": {
        "colab": {
          "base_uri": "https://localhost:8080/"
        },
        "id": "aT3SM0HPo10n",
        "outputId": "e60025b3-7b1d-45c3-9ae2-912aa2ae478b"
      },
      "source": [
        "#How to create an empty and a full NumPy array?\n",
        "\n",
        "empty_array = np.empty((3, 3), dtype=int)\n",
        "full_array = np.full((3, 3), 55, dtype=int)\n",
        "print(\"Full NumPy Array\")\n",
        "print(full_array)\n",
        "print(\"\\nEmpty Numpy Array\")\n",
        "print(empty_array)"
      ],
      "execution_count": null,
      "outputs": [
        {
          "output_type": "stream",
          "text": [
            "Full NumPy Array\n",
            "[[55 55 55]\n",
            " [55 55 55]\n",
            " [55 55 55]]\n",
            "\n",
            "Empty Numpy Array\n",
            "[[94854452265360    73014444034             28]\n",
            " [94854452265328              0              0]\n",
            " [            10              0              0]]\n"
          ],
          "name": "stdout"
        }
      ]
    },
    {
      "cell_type": "code",
      "metadata": {
        "colab": {
          "base_uri": "https://localhost:8080/"
        },
        "id": "N7uUFcCjiGrI",
        "outputId": "de2646a7-c8cb-4250-e998-bc788855afd4"
      },
      "source": [
        "import numpy as np\n",
        "a = np.random.randn(12288, 150) # a.shape = (12288, 150)\n",
        "b = np.random.randn(150, 45) # b.shape = (150, 45)\n",
        "c = np.dot(a,b)\n",
        "c.shape"
      ],
      "execution_count": null,
      "outputs": [
        {
          "output_type": "execute_result",
          "data": {
            "text/plain": [
              "(12288, 45)"
            ]
          },
          "metadata": {
            "tags": []
          },
          "execution_count": 2
        }
      ]
    },
    {
      "cell_type": "code",
      "metadata": {
        "colab": {
          "base_uri": "https://localhost:8080/"
        },
        "id": "xwA1gRQypNCn",
        "outputId": "e3dee505-e68c-4d9c-caa3-32e0d8a6524c"
      },
      "source": [
        "#Create a Numpy array filled with all zeros\n",
        "zeros = np.zeros((3,3))\n",
        "zeros"
      ],
      "execution_count": null,
      "outputs": [
        {
          "output_type": "execute_result",
          "data": {
            "text/plain": [
              "array([[0., 0., 0.],\n",
              "       [0., 0., 0.],\n",
              "       [0., 0., 0.]])"
            ]
          },
          "metadata": {
            "tags": []
          },
          "execution_count": 27
        }
      ]
    },
    {
      "cell_type": "code",
      "metadata": {
        "colab": {
          "base_uri": "https://localhost:8080/"
        },
        "id": "-aq220KkqagN",
        "outputId": "65f794af-d19b-4584-86f6-0d10bb177d48"
      },
      "source": [
        "#Create a Numpy array filled with all ones\n",
        "ones = np.ones((3,3))\n",
        "ones"
      ],
      "execution_count": null,
      "outputs": [
        {
          "output_type": "execute_result",
          "data": {
            "text/plain": [
              "array([[1., 1., 1.],\n",
              "       [1., 1., 1.],\n",
              "       [1., 1., 1.]])"
            ]
          },
          "metadata": {
            "tags": []
          },
          "execution_count": 28
        }
      ]
    },
    {
      "cell_type": "code",
      "metadata": {
        "colab": {
          "base_uri": "https://localhost:8080/"
        },
        "id": "M0yQzwiNqtan",
        "outputId": "690824ad-fc37-4194-fe61-50c2dd1b1f8d"
      },
      "source": [
        "# Check whether a Numpy array contains a specified row\n",
        "\n",
        "array = np.array([[1, 2, 3, 4, 5],\n",
        "                   [6, 7, 8, 9, 10],\n",
        "                   [11, 12, 13, 14, 15],\n",
        "                   [16, 17, 18, 19, 20]])\n",
        "  \n",
        "\n",
        "print([1, 2, 3, 4, 5] in array.tolist())\n",
        "print([1, 2, 3, 5, 4] in array.tolist())"
      ],
      "execution_count": null,
      "outputs": [
        {
          "output_type": "stream",
          "text": [
            "True\n",
            "False\n"
          ],
          "name": "stdout"
        }
      ]
    },
    {
      "cell_type": "code",
      "metadata": {
        "colab": {
          "base_uri": "https://localhost:8080/"
        },
        "id": "mYHz2ZLerpas",
        "outputId": "a651347d-b98f-4096-e362-afd7f6cbe686"
      },
      "source": [
        "#How to Remove rows in Numpy array that contains non-numeric values?\n",
        "array = np.array([[10.5, 22.5, 3.8],\n",
        "                  [41, np.nan, np.nan]])\n",
        "  \n",
        "print(\"Given array:\")\n",
        "print(array)\n",
        "  \n",
        "print(\"\\nRemove all rows containing non-numeric elements\")\n",
        "print(array[~np.isnan(array).any(axis=1)])"
      ],
      "execution_count": null,
      "outputs": [
        {
          "output_type": "stream",
          "text": [
            "Given array:\n",
            "[[10.5 22.5  3.8]\n",
            " [41.   nan  nan]]\n",
            "\n",
            "Remove all rows containing non-numeric elements\n",
            "[[10.5 22.5  3.8]]\n"
          ],
          "name": "stdout"
        }
      ]
    },
    {
      "cell_type": "code",
      "metadata": {
        "colab": {
          "base_uri": "https://localhost:8080/"
        },
        "id": "bMsRROUGsNr9",
        "outputId": "b09d0a5a-ed24-4212-db98-eb0828f12bc7"
      },
      "source": [
        "#Remove single-dimensional entries from the shape of an array\n",
        "array = np.arange(9).reshape(1, 3, 3) \n",
        "  \n",
        "print (\"Input array : \\n\", array)  \n",
        "out_array = np.squeeze(array, axis = 0) \n",
        "  \n",
        "print (\"\\noutput array : \\n\", out_array)  \n",
        "print(\"\\nThe shapes of Input and Output array : \") \n",
        "  \n",
        "print(array.shape, out_array.shape)"
      ],
      "execution_count": null,
      "outputs": [
        {
          "output_type": "stream",
          "text": [
            "Input array : \n",
            " [[[0 1 2]\n",
            "  [3 4 5]\n",
            "  [6 7 8]]]\n",
            "\n",
            "output array : \n",
            " [[0 1 2]\n",
            " [3 4 5]\n",
            " [6 7 8]]\n",
            "\n",
            "The shapes of Input and Output array : \n",
            "(1, 3, 3) (3, 3)\n"
          ],
          "name": "stdout"
        }
      ]
    },
    {
      "cell_type": "code",
      "metadata": {
        "colab": {
          "base_uri": "https://localhost:8080/"
        },
        "id": "DkTjJJoss9IG",
        "outputId": "a6f02f9f-8124-48e1-f894-75e9f71f9dd5"
      },
      "source": [
        "#Find the number of occurrences of a sequence in a NumPy array\n",
        "array = np.array([[2, 8, 9, 4], \n",
        "                   [9, 4, 9, 4],\n",
        "                   [4, 5, 9, 7],\n",
        "                   [2, 9, 4, 3]])\n",
        "  \n",
        "freq = repr(array).count(\"9, 4\")\n",
        "freq"
      ],
      "execution_count": null,
      "outputs": [
        {
          "output_type": "execute_result",
          "data": {
            "text/plain": [
              "4"
            ]
          },
          "metadata": {
            "tags": []
          },
          "execution_count": 41
        }
      ]
    },
    {
      "cell_type": "code",
      "metadata": {
        "colab": {
          "base_uri": "https://localhost:8080/"
        },
        "id": "D4bM_Z6Ctfzn",
        "outputId": "4b18613c-6f11-4d9e-c45a-0dab1b338f47"
      },
      "source": [
        "#Find the most frequent value in a NumPy array\n",
        "array = np.array([1,2,3,4,5,1,2,1,1,1])\n",
        "print(\"Original array:\")\n",
        "print(array)\n",
        "  \n",
        "print(\"Most frequent value in the above array:\")\n",
        "print(np.bincount(array).argmax())"
      ],
      "execution_count": null,
      "outputs": [
        {
          "output_type": "stream",
          "text": [
            "Original array:\n",
            "[1 2 3 4 5 1 2 1 1 1]\n",
            "Most frequent value in the above array:\n",
            "1\n"
          ],
          "name": "stdout"
        }
      ]
    },
    {
      "cell_type": "code",
      "metadata": {
        "id": "_MkSsgbut7eC",
        "colab": {
          "base_uri": "https://localhost:8080/"
        },
        "outputId": "2d95bdc1-bd27-4fbc-8da7-2896703e3e6a"
      },
      "source": [
        "#Combining a one and a two-dimensional NumPy Array\n",
        "num_1d = np.arange(5)\n",
        "print(\"One dimensional array:\")\n",
        "print(num_1d)\n",
        "  \n",
        "num_2d = np.arange(10).reshape(2,5)\n",
        "print(\"\\nTwo dimensional array:\")\n",
        "print(num_2d)\n",
        "   \n",
        "for a, b in np.nditer([num_1d, num_2d]):\n",
        "    print(\"%d:%d\" % (a, b),)"
      ],
      "execution_count": null,
      "outputs": [
        {
          "output_type": "stream",
          "text": [
            "One dimensional array:\n",
            "[0 1 2 3 4]\n",
            "\n",
            "Two dimensional array:\n",
            "[[0 1 2 3 4]\n",
            " [5 6 7 8 9]]\n",
            "0:0\n",
            "1:1\n",
            "2:2\n",
            "3:3\n",
            "4:4\n",
            "0:5\n",
            "1:6\n",
            "2:7\n",
            "3:8\n",
            "4:9\n"
          ],
          "name": "stdout"
        }
      ]
    },
    {
      "cell_type": "code",
      "metadata": {
        "colab": {
          "base_uri": "https://localhost:8080/"
        },
        "id": "r0rZsA2SELW1",
        "outputId": "f08ef2e9-8539-459b-9f6d-f36062a59917"
      },
      "source": [
        "#How to build an array of all combinations of two NumPy arrays?\n",
        "array_1 = np.array([1, 2, 3])\n",
        "array_2 = np.array([4, 5 ,6])\n",
        "  \n",
        "print(\"Array-1\")\n",
        "print(array_1)\n",
        "  \n",
        "print(\"\\nArray-2\")\n",
        "print(array_2)\n",
        "\n",
        "comb_array = np.array(np.meshgrid(array_1, array_2)).T.reshape(-1, 2)\n",
        "  \n",
        "print(\"\\nCombine array:\")\n",
        "print(comb_array)"
      ],
      "execution_count": null,
      "outputs": [
        {
          "output_type": "stream",
          "text": [
            "Array-1\n",
            "[1 2 3]\n",
            "\n",
            "Array-2\n",
            "[4 5 6]\n",
            "\n",
            "Combine array:\n",
            "[[1 4]\n",
            " [1 5]\n",
            " [1 6]\n",
            " [2 4]\n",
            " [2 5]\n",
            " [2 6]\n",
            " [3 4]\n",
            " [3 5]\n",
            " [3 6]]\n"
          ],
          "name": "stdout"
        }
      ]
    },
    {
      "cell_type": "code",
      "metadata": {
        "colab": {
          "base_uri": "https://localhost:8080/"
        },
        "id": "OhwrhuwZEZoX",
        "outputId": "fa196b79-29a5-4530-b863-c14de4947e33"
      },
      "source": [
        "#How to add a border around a NumPy array?\n",
        "\n",
        "array = np.ones((2, 2))\n",
        "  \n",
        "print(\"Original array\")\n",
        "print(array)\n",
        "  \n",
        "print()\n",
        "array = np.pad(array, pad_width=1, mode='constant',\n",
        "               constant_values=0)\n",
        "  \n",
        "print(array)"
      ],
      "execution_count": null,
      "outputs": [
        {
          "output_type": "stream",
          "text": [
            "Original array\n",
            "[[1. 1.]\n",
            " [1. 1.]]\n",
            "\n",
            "[[0. 0. 0. 0.]\n",
            " [0. 1. 1. 0.]\n",
            " [0. 1. 1. 0.]\n",
            " [0. 0. 0. 0.]]\n"
          ],
          "name": "stdout"
        }
      ]
    },
    {
      "cell_type": "code",
      "metadata": {
        "colab": {
          "base_uri": "https://localhost:8080/"
        },
        "id": "iUAEiyxaEvPW",
        "outputId": "23667980-2768-4a2b-a326-3c29ff955c3f"
      },
      "source": [
        "#How to compare two NumPy arrays?\n",
        "\n",
        "an_array = np.array([[1, 2], [3, 4]])\n",
        "another_array = np.array([[1, 2], [3, 4]])\n",
        "  \n",
        "comparison = an_array == another_array\n",
        "equal_arrays = comparison.all()\n",
        "  \n",
        "print(equal_arrays)"
      ],
      "execution_count": null,
      "outputs": [
        {
          "output_type": "stream",
          "text": [
            "True\n"
          ],
          "name": "stdout"
        }
      ]
    },
    {
      "cell_type": "code",
      "metadata": {
        "colab": {
          "base_uri": "https://localhost:8080/"
        },
        "id": "ZhsaY4AOFH7P",
        "outputId": "d401583d-91ef-4de5-97ec-6eccf68976a5"
      },
      "source": [
        "#How to check whether specified values are present in NumPy array?\n",
        "\n",
        "\n",
        "n_array = np.array([[2, 3, 0],\n",
        "                    [4, 1, 6]])\n",
        "  \n",
        "print(\"Given array:\")\n",
        "print(n_array)\n",
        "  \n",
        "# Checking whether specific values\n",
        "# are present in \"n_array\" or not\n",
        "print(2 in n_array)\n",
        "print(0 in n_array)\n",
        "print(6 in n_array)\n",
        "print(50 in n_array)\n",
        "print(10 in n_array)"
      ],
      "execution_count": null,
      "outputs": [
        {
          "output_type": "stream",
          "text": [
            "Given array:\n",
            "[[2 3 0]\n",
            " [4 1 6]]\n",
            "True\n",
            "True\n",
            "True\n",
            "False\n",
            "False\n"
          ],
          "name": "stdout"
        }
      ]
    },
    {
      "cell_type": "code",
      "metadata": {
        "colab": {
          "base_uri": "https://localhost:8080/"
        },
        "id": "HW-mln6CFvKC",
        "outputId": "5e3403bb-c354-475f-e66f-f34ac1359245"
      },
      "source": [
        "#How to get all 2D diagonals of a 3D NumPy array?\n",
        "\n",
        "arr = np.arange(3 * 4 * 4).reshape(3, 4, 4)\n",
        "  \n",
        "print(\"Original 3d array:\\n\", \n",
        "      arr)\n",
        "  \n",
        "# Create 2D diagonal array\n",
        "diag_arr = np.diagonal(arr, \n",
        "                       axis1 = 1,\n",
        "                       axis2 = 2)\n",
        "  \n",
        "print(\"\\n2d diagonal array:\\n\", \n",
        "      diag_arr)"
      ],
      "execution_count": null,
      "outputs": [
        {
          "output_type": "stream",
          "text": [
            "Original 3d array:\n",
            " [[[ 0  1  2  3]\n",
            "  [ 4  5  6  7]\n",
            "  [ 8  9 10 11]\n",
            "  [12 13 14 15]]\n",
            "\n",
            " [[16 17 18 19]\n",
            "  [20 21 22 23]\n",
            "  [24 25 26 27]\n",
            "  [28 29 30 31]]\n",
            "\n",
            " [[32 33 34 35]\n",
            "  [36 37 38 39]\n",
            "  [40 41 42 43]\n",
            "  [44 45 46 47]]]\n",
            "\n",
            "2d diagonal array:\n",
            " [[ 0  5 10 15]\n",
            " [16 21 26 31]\n",
            " [32 37 42 47]]\n"
          ],
          "name": "stdout"
        }
      ]
    },
    {
      "cell_type": "code",
      "metadata": {
        "colab": {
          "base_uri": "https://localhost:8080/"
        },
        "id": "Ia1H6-ksGY0P",
        "outputId": "55aa53c3-e92d-45f7-8739-8991814ff322"
      },
      "source": [
        "#Flatten a Matrix in Python using NumPy\n",
        "matrix = np.array([[2, 3], [4, 5]])\n",
        "  \n",
        "flat_matrix = matrix.flatten()\n",
        "print(flat_matrix)"
      ],
      "execution_count": null,
      "outputs": [
        {
          "output_type": "stream",
          "text": [
            "[2 3 4 5]\n"
          ],
          "name": "stdout"
        }
      ]
    },
    {
      "cell_type": "code",
      "metadata": {
        "colab": {
          "base_uri": "https://localhost:8080/"
        },
        "id": "kMi6tsxdHb_A",
        "outputId": "86c883dd-72aa-426a-eb1d-865691e02f83"
      },
      "source": [
        "#Flatten a 2d numpy array into 1d array\n",
        "\n",
        "ini_array1 = np.array([[1, 2, 3], [2, 4, 5], [1, 2, 3]])\n",
        "  \n",
        "# printing initial arrays\n",
        "print(\"initial array\", str(ini_array1))\n",
        "  \n",
        "# Multiplying arrays\n",
        "result = ini_array1.ravel()\n",
        "  \n",
        "# printing result\n",
        "print(\"New resulting array: \", result)"
      ],
      "execution_count": null,
      "outputs": [
        {
          "output_type": "stream",
          "text": [
            "initial array [[1 2 3]\n",
            " [2 4 5]\n",
            " [1 2 3]]\n",
            "New resulting array:  [1 2 3 2 4 5 1 2 3]\n"
          ],
          "name": "stdout"
        }
      ]
    },
    {
      "cell_type": "code",
      "metadata": {
        "colab": {
          "base_uri": "https://localhost:8080/"
        },
        "id": "azj_R1UEHtHV",
        "outputId": "9aaaa5ca-3951-46f5-8d8a-c16ffd7227b9"
      },
      "source": [
        "#Move axes of an array to new positions\n",
        "\n",
        "x = np.zeros((2, 3, 4, 5))\n",
        "print(np.moveaxis(x, 0, -1).shape)\n",
        "print(np.moveaxis(x, -1, 0).shape)"
      ],
      "execution_count": null,
      "outputs": [
        {
          "output_type": "stream",
          "text": [
            "(3, 4, 5, 2)\n",
            "(5, 2, 3, 4)\n"
          ],
          "name": "stdout"
        }
      ]
    },
    {
      "cell_type": "code",
      "metadata": {
        "colab": {
          "base_uri": "https://localhost:8080/"
        },
        "id": "Prptoc1qJPH8",
        "outputId": "337ad295-f335-49e0-d83c-5bbdac793e5b"
      },
      "source": [
        "#Interchange two axes of an array\n",
        "\n",
        "arr = np.array([[[0, 1], [2, 3]], [[4, 5], [6, 7]]])\n",
        "  \n",
        "arr2 = np.swapaxes(arr, 0, 2)\n",
        "  \n",
        "print(arr2)"
      ],
      "execution_count": null,
      "outputs": [
        {
          "output_type": "stream",
          "text": [
            "[[[0 4]\n",
            "  [2 6]]\n",
            "\n",
            " [[1 5]\n",
            "  [3 7]]]\n"
          ],
          "name": "stdout"
        }
      ]
    },
    {
      "cell_type": "code",
      "metadata": {
        "colab": {
          "base_uri": "https://localhost:8080/"
        },
        "id": "btx1LRhiJ9fv",
        "outputId": "1340acdd-8d67-4f9c-fd2e-d423517ce898"
      },
      "source": [
        "#NumPy – Fibonacci Series using Binet Formula\n",
        "\n",
        "a = np.arange(1, 11)\n",
        "lengthA = len(a)\n",
        "  \n",
        "sqrtFive = np.sqrt(5)\n",
        "alpha = (1 + sqrtFive) / 2\n",
        "beta = (1 - sqrtFive) / 2\n",
        "  \n",
        "Fn = np.rint(((alpha ** a) - (beta ** a)) / (sqrtFive))\n",
        "print(\"The first {} numbers of Fibonacci series are {} . \".format(lengthA, Fn))"
      ],
      "execution_count": null,
      "outputs": [
        {
          "output_type": "stream",
          "text": [
            "The first 10 numbers of Fibonacci series are [ 1.  1.  2.  3.  5.  8. 13. 21. 34. 55.] . \n"
          ],
          "name": "stdout"
        }
      ]
    },
    {
      "cell_type": "code",
      "metadata": {
        "colab": {
          "base_uri": "https://localhost:8080/"
        },
        "id": "H_ZB4tDSKVkP",
        "outputId": "6b061cb7-dba6-4061-eb73-f253b5c59b15"
      },
      "source": [
        "#Counts the number of non-zero values in the array\n",
        "\n",
        "arr = [[0, 1, 2, 3, 0], [0, 5, 6, 0, 7]]\n",
        "  \n",
        "nZero = np.count_nonzero(arr)\n",
        "  \n",
        "print (nZero) "
      ],
      "execution_count": null,
      "outputs": [
        {
          "output_type": "stream",
          "text": [
            "6\n"
          ],
          "name": "stdout"
        }
      ]
    },
    {
      "cell_type": "code",
      "metadata": {
        "colab": {
          "base_uri": "https://localhost:8080/"
        },
        "id": "fDtOtSHpLbYN",
        "outputId": "7ee1be68-1950-4419-91a6-f68e0dd69ede"
      },
      "source": [
        "#Count the number of elements along a given axis\n",
        "arr = np.array([[1, 2, 3, 4], [5, 6, 7, 8]])\n",
        " \n",
        "print(np.size(arr, 0))\n",
        "print(np.size(arr, 1))"
      ],
      "execution_count": null,
      "outputs": [
        {
          "output_type": "stream",
          "text": [
            "2\n",
            "4\n"
          ],
          "name": "stdout"
        }
      ]
    },
    {
      "cell_type": "code",
      "metadata": {
        "colab": {
          "base_uri": "https://localhost:8080/"
        },
        "id": "tH7uIEUhL9zu",
        "outputId": "87e94d22-9548-4473-d905-921fe5c405ca"
      },
      "source": [
        "#Trim the leading and/or trailing zeros from a 1-D array\n",
        "\n",
        "a = np.array((0, 0, 0, 1, 2, 3, 0, 2, 1, 0))\n",
        "print(np.trim_zeros(a))\n",
        "print(np.trim_zeros(a, 'b'))\n",
        "print(np.trim_zeros(a, 'f'))"
      ],
      "execution_count": null,
      "outputs": [
        {
          "output_type": "stream",
          "text": [
            "[1 2 3 0 2 1]\n",
            "[0 0 0 1 2 3 0 2 1]\n",
            "[1 2 3 0 2 1 0]\n"
          ],
          "name": "stdout"
        }
      ]
    },
    {
      "cell_type": "code",
      "metadata": {
        "colab": {
          "base_uri": "https://localhost:8080/"
        },
        "id": "hMa2OPzyM5jA",
        "outputId": "2471696c-b0ce-4f91-ffdc-d8c8cb02c18e"
      },
      "source": [
        "#Change data type of given numpy array\n",
        "\n",
        "arr = np.array([10, 20, 30, 40, 50])\n",
        "print(arr)\n",
        "print(arr.dtype)\n",
        "print()\n",
        "\n",
        "arr = arr = arr.astype('complex128')\n",
        "print(arr)\n",
        "print(arr.dtype)"
      ],
      "execution_count": null,
      "outputs": [
        {
          "output_type": "stream",
          "text": [
            "[10 20 30 40 50]\n",
            "int64\n",
            "\n",
            "[10.+0.j 20.+0.j 30.+0.j 40.+0.j 50.+0.j]\n",
            "complex128\n"
          ],
          "name": "stdout"
        }
      ]
    },
    {
      "cell_type": "code",
      "metadata": {
        "colab": {
          "base_uri": "https://localhost:8080/"
        },
        "id": "GeHKLB4kNpOX",
        "outputId": "e8eb8983-fbb0-4730-8c5b-6c0c11ab76b6"
      },
      "source": [
        "#Reverse a numpy array\n",
        "\n",
        "ini_array = np.array([1, 2, 3, 6, 4, 5])\n",
        "  \n",
        "print(\"initial array\", str(ini_array))\n",
        "    \n",
        "res = np.flipud(ini_array)\n",
        "  \n",
        "print(\"final array\", str(res))"
      ],
      "execution_count": null,
      "outputs": [
        {
          "output_type": "stream",
          "text": [
            "initial array [1 2 3 6 4 5]\n",
            "final array [5 4 6 3 2 1]\n"
          ],
          "name": "stdout"
        }
      ]
    },
    {
      "cell_type": "code",
      "metadata": {
        "colab": {
          "base_uri": "https://localhost:8080/",
          "height": 282
        },
        "id": "Uv8yl2vVOM32",
        "outputId": "7cced7fa-4969-46c2-95d9-c02f2a3376c6"
      },
      "source": [
        "#How to make a NumPy array read-only?\n",
        "\n",
        "a = np.zeros(11)\n",
        "print(\"Before any change \")\n",
        "print(a)\n",
        "  \n",
        "a[1] = 2\n",
        "print(\"Before after first change \")\n",
        "print(a)\n",
        "  \n",
        "a.flags.writeable = False\n",
        "print(\"After making array immutable on attempting  second change \")\n",
        "a[1] = 7"
      ],
      "execution_count": null,
      "outputs": [
        {
          "output_type": "stream",
          "text": [
            "Before any change \n",
            "[0. 0. 0. 0. 0. 0. 0. 0. 0. 0. 0.]\n",
            "Before after first change \n",
            "[0. 2. 0. 0. 0. 0. 0. 0. 0. 0. 0.]\n",
            "After making array immutable on attempting  second change \n"
          ],
          "name": "stdout"
        },
        {
          "output_type": "error",
          "ename": "ValueError",
          "evalue": "ignored",
          "traceback": [
            "\u001b[0;31m---------------------------------------------------------------------------\u001b[0m",
            "\u001b[0;31mValueError\u001b[0m                                Traceback (most recent call last)",
            "\u001b[0;32m<ipython-input-44-2a85f3426c5f>\u001b[0m in \u001b[0;36m<module>\u001b[0;34m()\u001b[0m\n\u001b[1;32m     11\u001b[0m \u001b[0ma\u001b[0m\u001b[0;34m.\u001b[0m\u001b[0mflags\u001b[0m\u001b[0;34m.\u001b[0m\u001b[0mwriteable\u001b[0m \u001b[0;34m=\u001b[0m \u001b[0;32mFalse\u001b[0m\u001b[0;34m\u001b[0m\u001b[0;34m\u001b[0m\u001b[0m\n\u001b[1;32m     12\u001b[0m \u001b[0mprint\u001b[0m\u001b[0;34m(\u001b[0m\u001b[0;34m\"After making array immutable on attempting  second change \"\u001b[0m\u001b[0;34m)\u001b[0m\u001b[0;34m\u001b[0m\u001b[0;34m\u001b[0m\u001b[0m\n\u001b[0;32m---> 13\u001b[0;31m \u001b[0ma\u001b[0m\u001b[0;34m[\u001b[0m\u001b[0;36m1\u001b[0m\u001b[0;34m]\u001b[0m \u001b[0;34m=\u001b[0m \u001b[0;36m7\u001b[0m\u001b[0;34m\u001b[0m\u001b[0;34m\u001b[0m\u001b[0m\n\u001b[0m",
            "\u001b[0;31mValueError\u001b[0m: assignment destination is read-only"
          ]
        }
      ]
    },
    {
      "cell_type": "markdown",
      "metadata": {
        "id": "7WmM2Fm7PJ1t"
      },
      "source": [
        "#Questions on NumPy Matrix\n"
      ]
    },
    {
      "cell_type": "code",
      "metadata": {
        "id": "urHOvOZ5Oavv",
        "colab": {
          "base_uri": "https://localhost:8080/"
        },
        "outputId": "c5e448b6-120c-4486-cb43-2a94f679b9bd"
      },
      "source": [
        "#Get the maximum value from given matrix\n",
        "\n",
        "arr = np.array([[11, 2, 3],\n",
        "                [4, 5, 16],\n",
        "                [7, 81, 22]])\n",
        "  \n",
        "\n",
        "max_element = np.max(arr)\n",
        "  \n",
        "max_element"
      ],
      "execution_count": null,
      "outputs": [
        {
          "output_type": "execute_result",
          "data": {
            "text/plain": [
              "81"
            ]
          },
          "metadata": {
            "tags": []
          },
          "execution_count": 12
        }
      ]
    },
    {
      "cell_type": "code",
      "metadata": {
        "colab": {
          "base_uri": "https://localhost:8080/"
        },
        "id": "DhKYSwuhHQfP",
        "outputId": "c67c02de-b3bc-49d2-9646-bb4f99511924"
      },
      "source": [
        "#Get the minimum value from given matrix\n",
        "\n",
        "\n",
        "arr = np.array([[11, 2, 3],\n",
        "                [4, 5, 16],\n",
        "                [7, 81, 22]])\n",
        "  \n",
        "min_element = np.min(arr)\n",
        "min_element"
      ],
      "execution_count": null,
      "outputs": [
        {
          "output_type": "execute_result",
          "data": {
            "text/plain": [
              "2"
            ]
          },
          "metadata": {
            "tags": []
          },
          "execution_count": 13
        }
      ]
    },
    {
      "cell_type": "code",
      "metadata": {
        "colab": {
          "base_uri": "https://localhost:8080/"
        },
        "id": "V7Pw1V6tHhVr",
        "outputId": "8fbdd173-d043-49e8-fb24-bae5cdde1dcd"
      },
      "source": [
        "#Find the number of rows and columns of a given matrix using NumPy\n",
        "\n",
        "import numpy as np\n",
        "m= np.arange(10,22).reshape((3, 4))\n",
        "print(\"Original matrix:\")\n",
        "print(m)\n",
        "print(\"Number of rows and columns of the said matrix:\")\n",
        "print(m.shape)\n"
      ],
      "execution_count": null,
      "outputs": [
        {
          "output_type": "stream",
          "text": [
            "Original matrix:\n",
            "[[10 11 12 13]\n",
            " [14 15 16 17]\n",
            " [18 19 20 21]]\n",
            "Number of rows and columns of the said matrix:\n",
            "(3, 4)\n"
          ],
          "name": "stdout"
        }
      ]
    },
    {
      "cell_type": "code",
      "metadata": {
        "colab": {
          "base_uri": "https://localhost:8080/"
        },
        "id": "N_uqI3CLIiYH",
        "outputId": "fedffaa6-cfdf-42a4-f275-1e1c01d60b76"
      },
      "source": [
        "#Select the elements from a given matrix\n",
        "\n",
        "x = np.arange(10)\n",
        "condlist = [x<3, x>5]\n",
        "choicelist = [x, x**2]\n",
        "np.select(condlist, choicelist)"
      ],
      "execution_count": null,
      "outputs": [
        {
          "output_type": "execute_result",
          "data": {
            "text/plain": [
              "array([ 0,  1,  2,  0,  0,  0, 36, 49, 64, 81])"
            ]
          },
          "metadata": {
            "tags": []
          },
          "execution_count": 15
        }
      ]
    },
    {
      "cell_type": "code",
      "metadata": {
        "id": "89vf-SmDJJNA",
        "colab": {
          "base_uri": "https://localhost:8080/"
        },
        "outputId": "874a6b45-e8fe-4033-92c3-eb40482c5d2a"
      },
      "source": [
        "#Find the sum of values in a matrix\n",
        "\n",
        "arr = [[14, 17, 12, 33, 44],   \n",
        "       [15, 6, 27, 8, 19],  \n",
        "       [23, 2, 54, 1, 4,]]  \n",
        "   \n",
        "print(\"\\nSum of arr : \", np.sum(arr)) \n",
        "   "
      ],
      "execution_count": null,
      "outputs": [
        {
          "output_type": "stream",
          "text": [
            "\n",
            "Sum of arr :  279\n"
          ],
          "name": "stdout"
        }
      ]
    },
    {
      "cell_type": "code",
      "metadata": {
        "colab": {
          "base_uri": "https://localhost:8080/"
        },
        "id": "6gvbOQFxKjJa",
        "outputId": "aeacb739-2c33-4abc-ad65-0059044ce603"
      },
      "source": [
        "#Calculate the sum of the diagonal elements of a NumPy array\n",
        "\n",
        "\n",
        "n_array = np.array([[55, 25, 15],\n",
        "                    [30, 44, 2],\n",
        "                    [11, 45, 77]])\n",
        "  \n",
        "print(\"Numpy Matrix is:\")\n",
        "print(n_array)\n",
        "  \n",
        "trace = np.trace(n_array)\n",
        "  \n",
        "print(\"\\nTrace of given 3X3 matrix:\")\n",
        "print(trace)"
      ],
      "execution_count": null,
      "outputs": [
        {
          "output_type": "stream",
          "text": [
            "Numpy Matrix is:\n",
            "[[55 25 15]\n",
            " [30 44  2]\n",
            " [11 45 77]]\n",
            "\n",
            "Trace of given 3X3 matrix:\n",
            "176\n"
          ],
          "name": "stdout"
        }
      ]
    },
    {
      "cell_type": "code",
      "metadata": {
        "colab": {
          "base_uri": "https://localhost:8080/"
        },
        "id": "aFuCbSdRK-fh",
        "outputId": "13793751-cbd8-4152-a42d-2037d2117867"
      },
      "source": [
        "#Adding and Subtracting Matrices in Python\n",
        "\n",
        "A = np.array([[1, 2], [3, 4]])\n",
        "  \n",
        "B = np.array([[4, 5], [6, 7]])\n",
        "  \n",
        "print(\"Printing elements of first matrix\")\n",
        "print(A)\n",
        "print(\"Printing elements of second matrix\")\n",
        "print(B)\n",
        "  \n",
        "print(\"Addition of two matrix\")\n",
        "print(np.add(A, B))"
      ],
      "execution_count": null,
      "outputs": [
        {
          "output_type": "stream",
          "text": [
            "Printing elements of first matrix\n",
            "[[1 2]\n",
            " [3 4]]\n",
            "Printing elements of second matrix\n",
            "[[4 5]\n",
            " [6 7]]\n",
            "Addition of two matrix\n",
            "[[ 5  7]\n",
            " [ 9 11]]\n"
          ],
          "name": "stdout"
        }
      ]
    },
    {
      "cell_type": "code",
      "metadata": {
        "colab": {
          "base_uri": "https://localhost:8080/"
        },
        "id": "7bVSYP89LmBB",
        "outputId": "aab6fee8-7371-42de-e0f5-b2338ade51da"
      },
      "source": [
        "#Ways to add row/columns in numpy array\n",
        "\n",
        "\n",
        "ini_array = np.array([[1, 2, 3], [45, 4, 7], [9, 6, 10]])\n",
        " \n",
        "print(\"initial_array : \", str(ini_array));\n",
        " \n",
        "column_to_be_added = np.array([1, 2, 3])\n",
        " \n",
        "result = np.hstack((ini_array, np.atleast_2d(column_to_be_added).T))\n",
        " \n",
        "print (\"resultant array\\n\", str(result))"
      ],
      "execution_count": null,
      "outputs": [
        {
          "output_type": "stream",
          "text": [
            "initial_array :  [[ 1  2  3]\n",
            " [45  4  7]\n",
            " [ 9  6 10]]\n",
            "resultant array\n",
            " [[ 1  2  3  1]\n",
            " [45  4  7  2]\n",
            " [ 9  6 10  3]]\n"
          ],
          "name": "stdout"
        }
      ]
    },
    {
      "cell_type": "code",
      "metadata": {
        "colab": {
          "base_uri": "https://localhost:8080/"
        },
        "id": "O2XMMQrRMPIl",
        "outputId": "f927f0cc-4caf-468b-92ee-250ca4937390"
      },
      "source": [
        "#Matrix Multiplication in NumPy\n",
        "\n",
        "\n",
        "mat1 = ([1, 6, 5],[3 ,4, 8],[2, 12, 3])\n",
        "mat2 = ([3, 4, 6],[5, 6, 7],[6,56, 7])\n",
        "  \n",
        "res = np.dot(mat1,mat2)\n",
        "\n",
        "print(res)"
      ],
      "execution_count": null,
      "outputs": [
        {
          "output_type": "stream",
          "text": [
            "[[ 63 320  83]\n",
            " [ 77 484 102]\n",
            " [ 84 248 117]]\n"
          ],
          "name": "stdout"
        }
      ]
    },
    {
      "cell_type": "code",
      "metadata": {
        "colab": {
          "base_uri": "https://localhost:8080/"
        },
        "id": "tzUKSqqYMrJ0",
        "outputId": "ffd77d49-bbc5-48b0-9ec6-d4dfea1c26e4"
      },
      "source": [
        "#Get the eigen values of a matrix\n",
        "\n",
        "m = np.array([[1, 2],\n",
        "              [2, 3]])\n",
        "  \n",
        "print(\"Printing the Original square array:\\n\", m)\n",
        "  \n",
        "w, v = np.linalg.eig(m)\n",
        "  \n",
        "print(\"Printing the Eigen values of the given square array:\\n\", w)\n",
        "  \n",
        "print(\"Printing Right eigenvectors of the given square array:\\n\", v)"
      ],
      "execution_count": null,
      "outputs": [
        {
          "output_type": "stream",
          "text": [
            "Printing the Original square array:\n",
            " [[1 2]\n",
            " [2 3]]\n",
            "Printing the Eigen values of the given square array:\n",
            " [-0.23606798  4.23606798]\n",
            "Printing Right eigenvectors of the given square array:\n",
            " [[-0.85065081 -0.52573111]\n",
            " [ 0.52573111 -0.85065081]]\n"
          ],
          "name": "stdout"
        }
      ]
    },
    {
      "cell_type": "code",
      "metadata": {
        "colab": {
          "base_uri": "https://localhost:8080/"
        },
        "id": "PsaUdv6JN32x",
        "outputId": "24e611a2-4cab-4187-ca24-3673fe981b00"
      },
      "source": [
        "#How to Calculate the determinant of a matrix using NumPy?\n",
        "\n",
        "\n",
        "n_array = np.array([[5, 2, 1, 4, 6],\n",
        "                    [9, 4, 2, 5, 2],\n",
        "                    [11, 5, 7, 3, 9],\n",
        "                    [5, 6, 6, 7, 2],\n",
        "                    [7, 5, 9, 3, 3]])\n",
        "  \n",
        "print(\"Numpy Matrix is:\")\n",
        "print(n_array)\n",
        "  \n",
        "det = np.linalg.det(n_array)\n",
        "  \n",
        "print(\"\\nDeterminant of given 5X5 square matrix:\")\n",
        "print(int(det))"
      ],
      "execution_count": null,
      "outputs": [
        {
          "output_type": "stream",
          "text": [
            "Numpy Matrix is:\n",
            "[[ 5  2  1  4  6]\n",
            " [ 9  4  2  5  2]\n",
            " [11  5  7  3  9]\n",
            " [ 5  6  6  7  2]\n",
            " [ 7  5  9  3  3]]\n",
            "\n",
            "Determinant of given 5X5 square matrix:\n",
            "-2003\n"
          ],
          "name": "stdout"
        }
      ]
    },
    {
      "cell_type": "code",
      "metadata": {
        "colab": {
          "base_uri": "https://localhost:8080/"
        },
        "id": "CgZEGAonOO3m",
        "outputId": "3b115fd5-06b1-4180-d60d-6008581fc9d7"
      },
      "source": [
        "#How to inverse a matrix using NumPy\n",
        "\n",
        "A = np.array([[6, 1, 1],\n",
        "              [4, -2, 5],\n",
        "              [2, 8, 7]])\n",
        "  \n",
        "\n",
        "print(np.linalg.inv(A))"
      ],
      "execution_count": null,
      "outputs": [
        {
          "output_type": "stream",
          "text": [
            "[[ 0.17647059 -0.00326797 -0.02287582]\n",
            " [ 0.05882353 -0.13071895  0.08496732]\n",
            " [-0.11764706  0.1503268   0.05228758]]\n"
          ],
          "name": "stdout"
        }
      ]
    },
    {
      "cell_type": "code",
      "metadata": {
        "colab": {
          "base_uri": "https://localhost:8080/"
        },
        "id": "nD37sXaEOb8J",
        "outputId": "1779185a-fa69-4470-d044-d59b14f9d0d7"
      },
      "source": [
        "#How to count the frequency of unique values in NumPy array?\n",
        "\n",
        "\n",
        "ini_array = np.array([10, 20, 5,\n",
        "                    10, 8, 20,\n",
        "                    8, 9])\n",
        "  \n",
        "\n",
        "unique, frequency = np.unique(ini_array, return_counts = True) \n",
        "  \n",
        "count = np.asarray((unique, frequency ))\n",
        "  \n",
        "print(\"The values and their frequency are:\\n\", count)"
      ],
      "execution_count": null,
      "outputs": [
        {
          "output_type": "stream",
          "text": [
            "The values and their frequency are:\n",
            " [[ 5  8  9 10 20]\n",
            " [ 1  2  1  2  2]]\n"
          ],
          "name": "stdout"
        }
      ]
    },
    {
      "cell_type": "code",
      "metadata": {
        "colab": {
          "base_uri": "https://localhost:8080/"
        },
        "id": "VIbwNAW_O2wN",
        "outputId": "b2669ef3-40cf-4cd9-e701-2dd76a512d69"
      },
      "source": [
        "#Multiply matrices of complex numbers using NumPy in Python\n",
        "x = np.array([2+3j, 4+5j])\n",
        "print(\"Printing First matrix:\")\n",
        "print(x)\n",
        "  \n",
        "y = np.array([8+7j, 5+6j])\n",
        "print(\"Printing Second matrix:\")\n",
        "print(y)\n",
        "  \n",
        "# vector dot product of two matrices\n",
        "z = np.vdot(x, y)\n",
        "print(\"Product of first and second matrices are:\")\n",
        "print(z)"
      ],
      "execution_count": null,
      "outputs": [
        {
          "output_type": "stream",
          "text": [
            "Printing First matrix:\n",
            "[2.+3.j 4.+5.j]\n",
            "Printing Second matrix:\n",
            "[8.+7.j 5.+6.j]\n",
            "Product of first and second matrices are:\n",
            "(87-11j)\n"
          ],
          "name": "stdout"
        }
      ]
    },
    {
      "cell_type": "code",
      "metadata": {
        "colab": {
          "base_uri": "https://localhost:8080/"
        },
        "id": "LLFxOllFPN45",
        "outputId": "34dd5078-46c3-4ab1-bd65-87b313b15859"
      },
      "source": [
        "#Compute the outer product of two given vectors using NumPy in Python\n",
        "\n",
        "array1 = np.array([6,2])\n",
        "array2 = np.array([2,5])\n",
        "print(\"Original 1-D arrays:\")\n",
        "print(array1)\n",
        "print(array2)\n",
        "  \n",
        "print(\"Outer Product of the two array is:\")\n",
        "result = np.outer(array1, array2)\n",
        "print(result)"
      ],
      "execution_count": null,
      "outputs": [
        {
          "output_type": "stream",
          "text": [
            "Original 1-D arrays:\n",
            "[6 2]\n",
            "[2 5]\n",
            "Outer Product of the two array is:\n",
            "[[12 30]\n",
            " [ 4 10]]\n"
          ],
          "name": "stdout"
        }
      ]
    },
    {
      "cell_type": "code",
      "metadata": {
        "colab": {
          "base_uri": "https://localhost:8080/"
        },
        "id": "mmyVuk0JPnW3",
        "outputId": "531f0975-377c-4397-d84b-94208623d8e8"
      },
      "source": [
        "#Calculate inner, outer, and cross products of matrices and vectors using NumPy\n",
        "\n",
        "a = np.array([3, 6])\n",
        "b = np.array([9, 10])\n",
        "print(\"Vectors :\")\n",
        "print(\"a = \", a)\n",
        "print(\"\\nb = \", b)\n",
        "   \n",
        "print(\"\\nCross product of vectors a and b =\")\n",
        "print(np.cross(a, b))\n",
        "  \n",
        "print(\"------------------------------------\")\n",
        "  \n",
        "x = np.array([[2, 6, 9], [2, 7, 3]])\n",
        "y = np.array([[7, 5, 6], [3, 12, 3]])\n",
        "print(\"\\nMatrices :\")\n",
        "print(\"x =\", x)\n",
        "print(\"\\ny =\", y)\n",
        "  \n",
        "print(\"\\nCross product of matrices x and y =\")\n",
        "print(np.cross(x, y))"
      ],
      "execution_count": null,
      "outputs": [
        {
          "output_type": "stream",
          "text": [
            "Vectors :\n",
            "a =  [3 6]\n",
            "\n",
            "b =  [ 9 10]\n",
            "\n",
            "Cross product of vectors a and b =\n",
            "-24\n",
            "------------------------------------\n",
            "\n",
            "Matrices :\n",
            "x = [[2 6 9]\n",
            " [2 7 3]]\n",
            "\n",
            "y = [[ 7  5  6]\n",
            " [ 3 12  3]]\n",
            "\n",
            "Cross product of matrices x and y =\n",
            "[[ -9  51 -32]\n",
            " [-15   3   3]]\n"
          ],
          "name": "stdout"
        }
      ]
    },
    {
      "cell_type": "code",
      "metadata": {
        "colab": {
          "base_uri": "https://localhost:8080/"
        },
        "id": "vVtb8Gx3QJCs",
        "outputId": "f92323b5-96d2-4879-a006-543f49b7c8c4"
      },
      "source": [
        "#Compute the covariance matrix of two given NumPy arrays\n",
        "\n",
        "array1 = np.array([2, 1, 1, 4])\n",
        "array2 = np.array([2, 2, 1, 1])\n",
        "  \n",
        "print(array1)\n",
        "\n",
        "print(array2)\n",
        "  \n",
        "print(\"\\nCovariance matrix of the said arrays:\\n\", \n",
        "      np.cov(array1, array2))"
      ],
      "execution_count": null,
      "outputs": [
        {
          "output_type": "stream",
          "text": [
            "[2 1 1 4]\n",
            "[2 2 1 1]\n",
            "\n",
            "Covariance matrix of the said arrays:\n",
            " [[ 2.         -0.33333333]\n",
            " [-0.33333333  0.33333333]]\n"
          ],
          "name": "stdout"
        }
      ]
    },
    {
      "cell_type": "code",
      "metadata": {
        "colab": {
          "base_uri": "https://localhost:8080/"
        },
        "id": "ql63SzidQZhR",
        "outputId": "9a360941-f995-4240-b30c-71be7719cebe"
      },
      "source": [
        "#Convert covariance matrix to correlation matrix using Python\n",
        "\n",
        "rng = np.random.default_rng(seed=42)\n",
        "xarr = rng.random((3, 3))\n",
        "R1 = np.corrcoef(xarr)\n",
        "R1"
      ],
      "execution_count": null,
      "outputs": [
        {
          "output_type": "execute_result",
          "data": {
            "text/plain": [
              "array([[ 1.        ,  0.99256089, -0.68080986],\n",
              "       [ 0.99256089,  1.        , -0.76492172],\n",
              "       [-0.68080986, -0.76492172,  1.        ]])"
            ]
          },
          "metadata": {
            "tags": []
          },
          "execution_count": 35
        }
      ]
    },
    {
      "cell_type": "code",
      "metadata": {
        "colab": {
          "base_uri": "https://localhost:8080/"
        },
        "id": "BAyRQSZ_Q_d4",
        "outputId": "18c10b8e-c57d-4382-c2eb-54437b18353d"
      },
      "source": [
        "#Compute the Kronecker product of two mulitdimension NumPy arrays\n",
        "\n",
        "array1 = np.array([[1, 2], [3, 4]])\n",
        "print('Array1:\\n', array1)\n",
        "  \n",
        "array2 = np.array([[5, 6], [7, 8]])\n",
        "print('\\nArray2:\\n', array2)\n",
        "  \n",
        "# Computing the Kronecker Product\n",
        "kroneckerProduct = np.kron(array1, array2)\n",
        "print('\\nArray1 ⊗ Array2:')\n",
        "print(kroneckerProduct)"
      ],
      "execution_count": null,
      "outputs": [
        {
          "output_type": "stream",
          "text": [
            "Array1:\n",
            " [[1 2]\n",
            " [3 4]]\n",
            "\n",
            "Array2:\n",
            " [[5 6]\n",
            " [7 8]]\n",
            "\n",
            "Array1 ⊗ Array2:\n",
            "[[ 5  6 10 12]\n",
            " [ 7  8 14 16]\n",
            " [15 18 20 24]\n",
            " [21 24 28 32]]\n"
          ],
          "name": "stdout"
        }
      ]
    },
    {
      "cell_type": "code",
      "metadata": {
        "colab": {
          "base_uri": "https://localhost:8080/"
        },
        "id": "qZnowkAQRmYt",
        "outputId": "07af6481-919e-4cc4-ab88-bbb0d5a83870"
      },
      "source": [
        "#Convert the matrix into a list\n",
        "\n",
        "\n",
        "a = np.array([[1, 2], [3, 4]])\n",
        "a.tolist()"
      ],
      "execution_count": null,
      "outputs": [
        {
          "output_type": "execute_result",
          "data": {
            "text/plain": [
              "[[1, 2], [3, 4]]"
            ]
          },
          "metadata": {
            "tags": []
          },
          "execution_count": 39
        }
      ]
    },
    {
      "cell_type": "markdown",
      "metadata": {
        "id": "wpXjJYqUSNWU"
      },
      "source": [
        "#Questions on NumPy Indexing\n"
      ]
    },
    {
      "cell_type": "code",
      "metadata": {
        "colab": {
          "base_uri": "https://localhost:8080/"
        },
        "id": "MLZHJCi_R8bm",
        "outputId": "d90c5760-a7a5-45a1-e805-59613b3015fa"
      },
      "source": [
        "#Replace NumPy array elements that doesn’t satisfy the given condition\n",
        "\n",
        "\n",
        "n_arr = np.array([[45.42436315, 52.48558583, 10.32924763],\n",
        "                  [5.7439979, 50.58220701, 25.38213418]])\n",
        "print(\"Given array:\")\n",
        "print(n_arr)\n",
        "  \n",
        "print(\"\\nReplace all elements of array which are greater than 30. to 5.25\")\n",
        "n_arr[n_arr > 30.] = 5.25\n",
        "  \n",
        "print(\"New array :\\n\")\n",
        "print(n_arr)"
      ],
      "execution_count": null,
      "outputs": [
        {
          "output_type": "stream",
          "text": [
            "Given array:\n",
            "[[45.42436315 52.48558583 10.32924763]\n",
            " [ 5.7439979  50.58220701 25.38213418]]\n",
            "\n",
            "Replace all elements of array which are greater than 30. to 5.25\n",
            "New array :\n",
            "\n",
            "[[ 5.25        5.25       10.32924763]\n",
            " [ 5.7439979   5.25       25.38213418]]\n"
          ],
          "name": "stdout"
        }
      ]
    },
    {
      "cell_type": "code",
      "metadata": {
        "colab": {
          "base_uri": "https://localhost:8080/"
        },
        "id": "L1IBSeylSqUz",
        "outputId": "d474a2a5-7c7d-43ce-932e-bfefa91c42ff"
      },
      "source": [
        "#Return the indices of elements where the given condition is satisfied\n",
        "\n",
        "a = np.array([[1, 2, 3], [4, 5, 6]])\n",
        "  \n",
        "print(a)\n",
        "  \n",
        "print ('Indices of elements <4')\n",
        "  \n",
        "b = np.where(a<4)\n",
        "print(b)\n",
        "  \n",
        "print(\"Elements which are <4\")\n",
        "print(a[b])"
      ],
      "execution_count": null,
      "outputs": [
        {
          "output_type": "stream",
          "text": [
            "[[1 2 3]\n",
            " [4 5 6]]\n",
            "Indices of elements <4\n",
            "(array([0, 0, 0]), array([0, 1, 2]))\n",
            "Elements which are <4\n",
            "[1 2 3]\n"
          ],
          "name": "stdout"
        }
      ]
    },
    {
      "cell_type": "code",
      "metadata": {
        "colab": {
          "base_uri": "https://localhost:8080/"
        },
        "id": "8e72C6DDS8X6",
        "outputId": "34321aca-50a4-48d3-e846-14cc911a2feb"
      },
      "source": [
        "#Replace NaN values with average of columns\n",
        "\n",
        "ini_array = np.array([[1.3, 2.5, 3.6, np.nan], \n",
        "                      [2.6, 3.3, np.nan, 5.5],\n",
        "                      [2.1, 3.2, 5.4, 6.5]])\n",
        "  \n",
        "print (\"initial array\", ini_array)\n",
        "  \n",
        "col_mean = np.nanmean(ini_array, axis = 0)\n",
        "  \n",
        "print (\"columns mean\", str(col_mean))\n",
        "  \n",
        "inds = np.where(np.isnan(ini_array))\n",
        "  \n",
        "ini_array[inds] = np.take(col_mean, inds[1])\n",
        "  \n",
        "print (\"final array\\n\", ini_array)"
      ],
      "execution_count": null,
      "outputs": [
        {
          "output_type": "stream",
          "text": [
            "initial array [[1.3 2.5 3.6 nan]\n",
            " [2.6 3.3 nan 5.5]\n",
            " [2.1 3.2 5.4 6.5]]\n",
            "columns mean [2.  3.  4.5 6. ]\n",
            "final array\n",
            " [[1.3 2.5 3.6 6. ]\n",
            " [2.6 3.3 4.5 5.5]\n",
            " [2.1 3.2 5.4 6.5]]\n"
          ],
          "name": "stdout"
        }
      ]
    },
    {
      "cell_type": "code",
      "metadata": {
        "colab": {
          "base_uri": "https://localhost:8080/"
        },
        "id": "YPzzddUFTSNR",
        "outputId": "daf9833d-bc64-42a2-d7f6-3e1069d1c21f"
      },
      "source": [
        "#Replace negative value with zero in numpy array\n",
        "\n",
        "\n",
        "ini_array1 = np.array([1, 2, -3, 4, -5, -6])\n",
        "  \n",
        "print(\"initial array\", ini_array1)\n",
        "  \n",
        "ini_array1[ini_array1<0] = 0\n",
        "  \n",
        "print(\"New resulting array: \", ini_array1)"
      ],
      "execution_count": null,
      "outputs": [
        {
          "output_type": "stream",
          "text": [
            "initial array [ 1  2 -3  4 -5 -6]\n",
            "New resulting array:  [1 2 0 4 0 0]\n"
          ],
          "name": "stdout"
        }
      ]
    },
    {
      "cell_type": "code",
      "metadata": {
        "colab": {
          "base_uri": "https://localhost:8080/"
        },
        "id": "JHijBblCTq-_",
        "outputId": "07d03a8d-f4f5-4ebc-9eee-1f68b590daac"
      },
      "source": [
        "#How to get values of an NumPy array at certain index positions?\n",
        "a1 = np.array([11, 10, 22, 30, 33])\n",
        "print(\"Array 1 :\")\n",
        "print(a1)\n",
        "  \n",
        "a2 = np.array([1, 15, 60])\n",
        "print(\"Array 2 :\")\n",
        "print(a2)\n",
        "  \n",
        "print(\"\\nTake 1 and 15 from Array 2 and put them in\\\n",
        "1st and 5th position of Array 1\")\n",
        "  \n",
        "a1.put([0, 4], a2)\n",
        "  \n",
        "print(\"Resultant Array :\")\n",
        "print(a1)"
      ],
      "execution_count": null,
      "outputs": [
        {
          "output_type": "stream",
          "text": [
            "Array 1 :\n",
            "[11 10 22 30 33]\n",
            "Array 2 :\n",
            "[ 1 15 60]\n",
            "\n",
            "Take 1 and 15 from Array 2 and put them in1st and 5th position of Array 1\n",
            "Resultant Array :\n",
            "[ 1 10 22 30 15]\n"
          ],
          "name": "stdout"
        }
      ]
    },
    {
      "cell_type": "code",
      "metadata": {
        "colab": {
          "base_uri": "https://localhost:8080/"
        },
        "id": "vIr-UzsxT9CL",
        "outputId": "5bba4fd2-4b8a-4cb7-d8ef-69ac566c3bb4"
      },
      "source": [
        "#Find indices of elements equal to zero in a NumPy array\n",
        "\n",
        "\n",
        "n_array = np.array([1, 0, 2, 0, 3, 0, 0, 5,\n",
        "                    6, 7, 5, 0, 8])\n",
        "  \n",
        "print(\"Original array:\")\n",
        "print(n_array)\n",
        "  \n",
        "# finding indices of null elements using np.where()\n",
        "print(\"\\nIndices of elements equal to zero of the \\\n",
        "given 1-D array:\")\n",
        "  \n",
        "res = np.where(n_array == 0)[0]\n",
        "print(res)"
      ],
      "execution_count": null,
      "outputs": [
        {
          "output_type": "stream",
          "text": [
            "Original array:\n",
            "[1 0 2 0 3 0 0 5 6 7 5 0 8]\n",
            "\n",
            "Indices of elements equal to zero of the given 1-D array:\n",
            "[ 1  3  5  6 11]\n"
          ],
          "name": "stdout"
        }
      ]
    },
    {
      "cell_type": "code",
      "metadata": {
        "colab": {
          "base_uri": "https://localhost:8080/"
        },
        "id": "KRrZJfV7URmb",
        "outputId": "936d6efe-85af-4892-a99d-bfbfff20ff1f"
      },
      "source": [
        "#How to Remove columns in Numpy array that contains non-numeric values?\n",
        "\n",
        "n_arr = np.array([[10.5, 22.5, np.nan],\n",
        "                  [41, 52.5, np.nan]])\n",
        "  \n",
        "print(\"Given array:\")\n",
        "print(n_arr)\n",
        "  \n",
        "print(\"\\nRemove all columns containing non-numeric elements \")\n",
        "print(n_arr[:, ~np.isnan(n_arr).any(axis=0)])"
      ],
      "execution_count": null,
      "outputs": [
        {
          "output_type": "stream",
          "text": [
            "Given array:\n",
            "[[10.5 22.5  nan]\n",
            " [41.  52.5  nan]]\n",
            "\n",
            "Remove all columns containing non-numeric elements \n",
            "[[10.5 22.5]\n",
            " [41.  52.5]]\n"
          ],
          "name": "stdout"
        }
      ]
    },
    {
      "cell_type": "code",
      "metadata": {
        "colab": {
          "base_uri": "https://localhost:8080/"
        },
        "id": "rQdV8NhUUc5p",
        "outputId": "8eae35af-6cc7-4b0c-8665-d242338d85c4"
      },
      "source": [
        "#How to access different rows of a multidimensional NumPy array?\n",
        "\n",
        "\n",
        "arr = np.array([[10, 20, 30], \n",
        "                [40, 5, 66], \n",
        "                [70, 88, 94]])\n",
        "  \n",
        "print(\"Given Array :\")\n",
        "print(arr)\n",
        "  \n",
        "# Access the First and Last rows of array\n",
        "res_arr = arr[[0,2]]\n",
        "print(\"\\nAccessed Rows :\")\n",
        "print(res_arr)"
      ],
      "execution_count": null,
      "outputs": [
        {
          "output_type": "stream",
          "text": [
            "Given Array :\n",
            "[[10 20 30]\n",
            " [40  5 66]\n",
            " [70 88 94]]\n",
            "\n",
            "Accessed Rows :\n",
            "[[10 20 30]\n",
            " [70 88 94]]\n"
          ],
          "name": "stdout"
        }
      ]
    },
    {
      "cell_type": "code",
      "metadata": {
        "colab": {
          "base_uri": "https://localhost:8080/"
        },
        "id": "R4n2UgjeUnL2",
        "outputId": "9aa2b7e5-899a-4b91-ea1d-bb2c3f6bbdba"
      },
      "source": [
        "#Get row numbers of NumPy array having element larger than X\n",
        "\n",
        "arr = np.array([[1, 2, 3, 4, 5],\n",
        "                  [10, -3, 30, 4, 5],\n",
        "                  [3, 2, 5, -4, 5],\n",
        "                  [9, 7, 3, 6, 5] \n",
        "                 ])\n",
        "  \n",
        "X = 6\n",
        "  \n",
        "print(\"Given Array:\\n\", arr)\n",
        "  \n",
        "output  = np.where(np.any(arr > X,\n",
        "                                axis = 1))\n",
        "  \n",
        "print(\"Result:\\n\", output)"
      ],
      "execution_count": null,
      "outputs": [
        {
          "output_type": "stream",
          "text": [
            "Given Array:\n",
            " [[ 1  2  3  4  5]\n",
            " [10 -3 30  4  5]\n",
            " [ 3  2  5 -4  5]\n",
            " [ 9  7  3  6  5]]\n",
            "Result:\n",
            " (array([1, 3]),)\n"
          ],
          "name": "stdout"
        }
      ]
    },
    {
      "cell_type": "code",
      "metadata": {
        "colab": {
          "base_uri": "https://localhost:8080/"
        },
        "id": "6KdT-A6FVDkP",
        "outputId": "ebefc53e-9135-47ba-8085-143d6bf1a5f4"
      },
      "source": [
        "#Get filled the diagonals of NumPy array\n",
        "\n",
        "array = np.zeros((3, 3), int)\n",
        "np.fill_diagonal(array, 1)\n",
        "  \n",
        "print(array)"
      ],
      "execution_count": null,
      "outputs": [
        {
          "output_type": "stream",
          "text": [
            "[[1 0 0]\n",
            " [0 1 0]\n",
            " [0 0 1]]\n"
          ],
          "name": "stdout"
        }
      ]
    },
    {
      "cell_type": "code",
      "metadata": {
        "colab": {
          "base_uri": "https://localhost:8080/"
        },
        "id": "Zv-hbNtYVqlV",
        "outputId": "96e69d25-c24b-4b4d-b038-de04ff6f907b"
      },
      "source": [
        "#Check elements present in the NumPy array\n",
        "\n",
        "a = np.array([1, 2, 6, 4, 2, 3, 2])\n",
        "u, indices = np.unique(a, return_inverse=True)\n",
        "u"
      ],
      "execution_count": null,
      "outputs": [
        {
          "output_type": "execute_result",
          "data": {
            "text/plain": [
              "array([1, 2, 3, 4, 6])"
            ]
          },
          "metadata": {
            "tags": []
          },
          "execution_count": 54
        }
      ]
    },
    {
      "cell_type": "markdown",
      "metadata": {
        "id": "REBaY96jctlw"
      },
      "source": [
        "#Questions on NumPy Linear Algebra\n"
      ]
    },
    {
      "cell_type": "code",
      "metadata": {
        "colab": {
          "base_uri": "https://localhost:8080/"
        },
        "id": "4RVE2f4CdFJD",
        "outputId": "1ad03aac-89ba-4cec-8696-e001060e591c"
      },
      "source": [
        "#Find a matrix or vector norm using NumPy\n",
        "\n",
        "\n",
        "vec = np.arange(10)\n",
        " \n",
        "vec_norm = np.linalg.norm(vec)\n",
        " \n",
        "print(\"Vector norm:\")\n",
        "print(vec_norm)"
      ],
      "execution_count": null,
      "outputs": [
        {
          "output_type": "stream",
          "text": [
            "Vector norm:\n",
            "16.881943016134134\n"
          ],
          "name": "stdout"
        }
      ]
    },
    {
      "cell_type": "code",
      "metadata": {
        "colab": {
          "base_uri": "https://localhost:8080/"
        },
        "id": "1dXUt0sqdJMA",
        "outputId": "5e861612-69b8-456c-cef9-346cdac589a4"
      },
      "source": [
        "#Calculate the QR decomposition of a given matrix using NumPy\n",
        "\n",
        "matrix1 = np.array([[1, 2, 3], [3, 4, 5]])\n",
        "print(matrix1)\n",
        "  \n",
        "# Decomposition of the said matrix\n",
        "q, r = np.linalg.qr(matrix1)\n",
        "print('\\nQ:\\n', q)\n",
        "print('\\nR:\\n', r)"
      ],
      "execution_count": null,
      "outputs": [
        {
          "output_type": "stream",
          "text": [
            "[[1 2 3]\n",
            " [3 4 5]]\n",
            "\n",
            "Q:\n",
            " [[-0.31622777 -0.9486833 ]\n",
            " [-0.9486833   0.31622777]]\n",
            "\n",
            "R:\n",
            " [[-3.16227766 -4.42718872 -5.69209979]\n",
            " [ 0.         -0.63245553 -1.26491106]]\n"
          ],
          "name": "stdout"
        }
      ]
    },
    {
      "cell_type": "code",
      "metadata": {
        "colab": {
          "base_uri": "https://localhost:8080/"
        },
        "id": "35WdksZYdSig",
        "outputId": "308c3353-1261-40a4-dd8e-8f15ae7c4b54"
      },
      "source": [
        "#Compute the condition number of a given matrix using NumPy\n",
        "\n",
        "matrix = np.array([[4, 2], [3, 1]])\n",
        "  \n",
        "print(\"Original matrix:\")\n",
        "print(matrix)\n",
        "  \n",
        "# Output\n",
        "result =  np.linalg.cond(matrix)\n",
        "  \n",
        "print(\"Condition number of the matrix:\")\n",
        "print(result)"
      ],
      "execution_count": null,
      "outputs": [
        {
          "output_type": "stream",
          "text": [
            "Original matrix:\n",
            "[[4 2]\n",
            " [3 1]]\n",
            "Condition number of the matrix:\n",
            "14.933034373659254\n"
          ],
          "name": "stdout"
        }
      ]
    },
    {
      "cell_type": "code",
      "metadata": {
        "colab": {
          "base_uri": "https://localhost:8080/"
        },
        "id": "4xU9q0wudbak",
        "outputId": "ae34d88b-394b-46b5-fd18-1f1b8921f424"
      },
      "source": [
        "#Compute the eigenvalues and right eigenvectors of a given square array using NumPy?\n",
        "\n",
        "m = np.array([[1, 2, 3],\n",
        "              [2, 3, 4],\n",
        "              [4, 5, 6]])\n",
        "  \n",
        "print(\"Printing the Original square array:\\n\",\n",
        "      m)\n",
        "  \n",
        "# finding eigenvalues and eigenvectors\n",
        "w, v = np.linalg.eig(m)\n",
        "  \n",
        "# printing eigen values\n",
        "print(\"Printing the Eigen values of the given square array:\\n\",\n",
        "      w)\n",
        "  \n",
        "# printing eigen vectors\n",
        "print(\"Printing Right eigenvectors of the given square array:\\n\",\n",
        "      v)"
      ],
      "execution_count": null,
      "outputs": [
        {
          "output_type": "stream",
          "text": [
            "Printing the Original square array:\n",
            " [[1 2 3]\n",
            " [2 3 4]\n",
            " [4 5 6]]\n",
            "Printing the Eigen values of the given square array:\n",
            " [ 1.08309519e+01 -8.30951895e-01 -1.24701000e-16]\n",
            "Printing Right eigenvectors of the given square array:\n",
            " [[ 0.34416959  0.72770285  0.40824829]\n",
            " [ 0.49532111  0.27580256 -0.81649658]\n",
            " [ 0.79762415 -0.62799801  0.40824829]]\n"
          ],
          "name": "stdout"
        }
      ]
    },
    {
      "cell_type": "code",
      "metadata": {
        "colab": {
          "base_uri": "https://localhost:8080/"
        },
        "id": "c3bfYytkd6FR",
        "outputId": "e1b17dd0-2ba1-4426-a215-df3755d12fc0"
      },
      "source": [
        "#Calculate the Euclidean distance using NumPy\n",
        "\n",
        "point1 = np.array((1, 2, 3))\n",
        "point2 = np.array((1, 1, 1))\n",
        " \n",
        "# calculating Euclidean distance\n",
        "# using linalg.norm()\n",
        "dist = np.linalg.norm(point1 - point2)\n",
        " \n",
        "# printing Euclidean distance\n",
        "print(dist)"
      ],
      "execution_count": null,
      "outputs": [
        {
          "output_type": "stream",
          "text": [
            "2.23606797749979\n"
          ],
          "name": "stdout"
        }
      ]
    },
    {
      "cell_type": "markdown",
      "metadata": {
        "id": "Qx3TnkqSeNuD"
      },
      "source": [
        "#Questions on NumPy Random\n"
      ]
    },
    {
      "cell_type": "code",
      "metadata": {
        "colab": {
          "base_uri": "https://localhost:8080/"
        },
        "id": "V0bhRXAGeEEv",
        "outputId": "5e252703-bdc5-42f2-ae98-f7c08a1ab278"
      },
      "source": [
        "#Create a Numpy array with random values\n",
        "\n",
        "np.random.rand(3,2)"
      ],
      "execution_count": null,
      "outputs": [
        {
          "output_type": "execute_result",
          "data": {
            "text/plain": [
              "array([[0.97506017, 0.88625871],\n",
              "       [0.21480476, 0.45287321],\n",
              "       [0.21599266, 0.97861398]])"
            ]
          },
          "metadata": {
            "tags": []
          },
          "execution_count": 60
        }
      ]
    },
    {
      "cell_type": "code",
      "metadata": {
        "colab": {
          "base_uri": "https://localhost:8080/"
        },
        "id": "raqM9AnneZvS",
        "outputId": "2ffd32e6-5092-44ca-ffdb-fc0f4df88674"
      },
      "source": [
        "#How to choose elements from the list with different probability using NumPy?\n",
        "\n",
        "num_list = [10, 20, 30, 40, 50]\n",
        "  \n",
        "  \n",
        "number_list = np.random.choice(num_list, 3,\n",
        "                          p = [0, 0, 0.5, 0.5, 0])\n",
        "  \n",
        "print(number_list)"
      ],
      "execution_count": null,
      "outputs": [
        {
          "output_type": "stream",
          "text": [
            "[30 30 40]\n"
          ],
          "name": "stdout"
        }
      ]
    },
    {
      "cell_type": "code",
      "metadata": {
        "colab": {
          "base_uri": "https://localhost:8080/"
        },
        "id": "fpqHRM3jeqkK",
        "outputId": "18289a79-676c-43b9-c35c-d52cd4da9a89"
      },
      "source": [
        "#How to get weighted random choice in Python?\n",
        "import random\n",
        "\n",
        "\n",
        "sampleList = [100, 200, 300, 400, 500]\n",
        "  \n",
        "randomList = random.choices(\n",
        "  sampleList, weights=(10, 20, 30, 40, 50), k=5)\n",
        "  \n",
        "print(randomList)"
      ],
      "execution_count": null,
      "outputs": [
        {
          "output_type": "stream",
          "text": [
            "[300, 500, 500, 200, 100]\n"
          ],
          "name": "stdout"
        }
      ]
    },
    {
      "cell_type": "code",
      "metadata": {
        "colab": {
          "base_uri": "https://localhost:8080/"
        },
        "id": "7W2FfWe0fERA",
        "outputId": "0403bda2-870f-44f5-c0f8-f44416de3bfb"
      },
      "source": [
        "#Generate Random Numbers From The Uniform Distribution using NumPy\n",
        "\n",
        "r = np.random.uniform(size=4)\n",
        "  \n",
        "# printing numbers\n",
        "print(r)"
      ],
      "execution_count": null,
      "outputs": [
        {
          "output_type": "stream",
          "text": [
            "[0.23791986 0.96301972 0.08097004 0.94904849]\n"
          ],
          "name": "stdout"
        }
      ]
    },
    {
      "cell_type": "code",
      "metadata": {
        "colab": {
          "base_uri": "https://localhost:8080/"
        },
        "id": "pdzQ4APTfZST",
        "outputId": "030e6e3d-0f0f-40a0-9bab-dc6a871f3be0"
      },
      "source": [
        "#Get Random Elements form geometric distribution\n",
        "\n",
        "z = np.random.geometric(p=0.35, size=5)\n",
        "z"
      ],
      "execution_count": null,
      "outputs": [
        {
          "output_type": "execute_result",
          "data": {
            "text/plain": [
              "array([9, 4, 5, 9, 2])"
            ]
          },
          "metadata": {
            "tags": []
          },
          "execution_count": 66
        }
      ]
    },
    {
      "cell_type": "code",
      "metadata": {
        "colab": {
          "base_uri": "https://localhost:8080/"
        },
        "id": "LsN0Bwopfjin",
        "outputId": "fc60feed-dac8-4777-f63e-20c1f3fbe08d"
      },
      "source": [
        "#Get Random elements from Laplace distribution\n",
        "\n",
        "loc, scale = 0., 1.\n",
        "s = np.random.laplace(loc, scale, 5)\n",
        "s"
      ],
      "execution_count": null,
      "outputs": [
        {
          "output_type": "execute_result",
          "data": {
            "text/plain": [
              "array([-2.64370612,  6.83211422,  0.37147116, -3.01661529, -0.26021321])"
            ]
          },
          "metadata": {
            "tags": []
          },
          "execution_count": 67
        }
      ]
    },
    {
      "cell_type": "code",
      "metadata": {
        "colab": {
          "base_uri": "https://localhost:8080/"
        },
        "id": "dh7MQOfTf0oR",
        "outputId": "d93d349f-3929-4d3f-eca7-0b4fecc2b8c5"
      },
      "source": [
        "#Return a Matrix of random values from a uniform distribution\n",
        "\n",
        "s = np.random.uniform(-1,0,(5,5))\n",
        "s\n"
      ],
      "execution_count": null,
      "outputs": [
        {
          "output_type": "execute_result",
          "data": {
            "text/plain": [
              "array([[-0.5748875 , -0.47669508, -0.53908323, -0.91117802, -0.56377181],\n",
              "       [-0.19432283, -0.92022756, -0.48256544, -0.70972882, -0.67606344],\n",
              "       [-0.25390704, -0.40977322, -0.54731677, -0.74075223, -0.32824379],\n",
              "       [-0.46449453, -0.1717052 , -0.81907047, -0.75503097, -0.48399311],\n",
              "       [-0.60803222, -0.2831505 , -0.14264901, -0.07205085, -0.22612796]])"
            ]
          },
          "metadata": {
            "tags": []
          },
          "execution_count": 69
        }
      ]
    },
    {
      "cell_type": "code",
      "metadata": {
        "colab": {
          "base_uri": "https://localhost:8080/"
        },
        "id": "HcaId_B7gIUj",
        "outputId": "94a3ecdd-6f01-4f34-f3b4-64e40f7d07d5"
      },
      "source": [
        "#Return a Matrix of random values from a Gaussian distribution\n",
        "\n",
        "np.random.normal(3, 2.5, size=(5, 5))"
      ],
      "execution_count": null,
      "outputs": [
        {
          "output_type": "execute_result",
          "data": {
            "text/plain": [
              "array([[-2.07106874, -0.25386   ,  1.70812573, -0.38295891,  6.08946138],\n",
              "       [ 8.65281786,  2.75824605, -0.49438587,  4.11685776,  0.12277886],\n",
              "       [ 2.26990582,  3.22955815,  6.00350181,  5.27590204,  4.60522481],\n",
              "       [ 1.30242302,  0.65619997,  6.97132469,  4.89082819,  0.28544413],\n",
              "       [ 4.27235909,  7.55442749, -1.8273051 ,  5.06088392, -1.39405125]])"
            ]
          },
          "metadata": {
            "tags": []
          },
          "execution_count": 70
        }
      ]
    },
    {
      "cell_type": "markdown",
      "metadata": {
        "id": "efZPsBUXgeX7"
      },
      "source": [
        "#Questions on NumPy Sorting and Searching\n"
      ]
    },
    {
      "cell_type": "code",
      "metadata": {
        "colab": {
          "base_uri": "https://localhost:8080/"
        },
        "id": "d1fl3B5RgZPZ",
        "outputId": "54f174ce-9393-467f-be98-5ba70b285702"
      },
      "source": [
        "#How to get the indices of the sorted array using NumPy in Python?\n",
        "\n",
        "array = np.array([10, 52, 62, 16, 16, 54, 453])\n",
        "print(array)\n",
        "  \n",
        "indices = np.argsort(array)\n",
        "print(indices)"
      ],
      "execution_count": null,
      "outputs": [
        {
          "output_type": "stream",
          "text": [
            "[ 10  52  62  16  16  54 453]\n",
            "[0 3 4 1 5 2 6]\n"
          ],
          "name": "stdout"
        }
      ]
    },
    {
      "cell_type": "code",
      "metadata": {
        "colab": {
          "base_uri": "https://localhost:8080/"
        },
        "id": "w8RVLnargsZV",
        "outputId": "0a2ef78f-eb6d-412e-9ac5-8d813bb56129"
      },
      "source": [
        "#Finding the k smallest values of a NumPy array\n",
        "\n",
        "arr = np.array([23, 12, 1, 3, 4, 5, 6])\n",
        "print(\"The Original Array Content\")\n",
        "print(arr)\n",
        "  \n",
        "k = 4\n",
        "  \n",
        "result = np.argpartition(arr, k)\n",
        "  \n",
        "print(k, \"smallest elements of the array\")\n",
        "print(arr[result[:k]])"
      ],
      "execution_count": null,
      "outputs": [
        {
          "output_type": "stream",
          "text": [
            "The Original Array Content\n",
            "[23 12  1  3  4  5  6]\n",
            "4 smallest elements of the array\n",
            "[4 3 1 5]\n"
          ],
          "name": "stdout"
        }
      ]
    },
    {
      "cell_type": "code",
      "metadata": {
        "colab": {
          "base_uri": "https://localhost:8080/"
        },
        "id": "Vb8P4hjyg7nn",
        "outputId": "aeec09ef-5090-4062-9ab3-5a2f8aa65bb3"
      },
      "source": [
        "#How to get the n-largest values of an array using NumPy?\n",
        "\n",
        "arr = np.array([2, 0,  1, 5,\n",
        "                4, 1, 9])\n",
        "  \n",
        "print(\"Given array:\", arr)\n",
        "  \n",
        "\n",
        "sorted_index_array = np.argsort(arr)\n",
        "  \n",
        "sorted_array = arr[sorted_index_array]\n",
        "  \n",
        "print(\"Sorted array:\", sorted_array)\n",
        "  \n",
        "n = 3\n",
        "  \n",
        "rslt = sorted_array[-n : ]\n",
        "  \n",
        "\n",
        "print(\"{} largest value:\".format(n),\n",
        "      rslt)"
      ],
      "execution_count": null,
      "outputs": [
        {
          "output_type": "stream",
          "text": [
            "Given array: [2 0 1 5 4 1 9]\n",
            "Sorted array: [0 1 1 2 4 5 9]\n",
            "3 largest value: [4 5 9]\n"
          ],
          "name": "stdout"
        }
      ]
    },
    {
      "cell_type": "code",
      "metadata": {
        "colab": {
          "base_uri": "https://localhost:8080/"
        },
        "id": "eJKvs6BJhRZD",
        "outputId": "569d8244-ba94-4444-ea2d-5c70a8d86ea4"
      },
      "source": [
        "#Sort the values in a matrix\n",
        "\n",
        "a = np.array([6,5,78,44,22])\n",
        "np.sort(a)"
      ],
      "execution_count": null,
      "outputs": [
        {
          "output_type": "execute_result",
          "data": {
            "text/plain": [
              "array([ 5,  6, 22, 44, 78])"
            ]
          },
          "metadata": {
            "tags": []
          },
          "execution_count": 77
        }
      ]
    },
    {
      "cell_type": "code",
      "metadata": {
        "colab": {
          "base_uri": "https://localhost:8080/"
        },
        "id": "CWFMKpy9htuQ",
        "outputId": "fef6df71-37e7-43ae-e703-c975db084ab0"
      },
      "source": [
        "#Filter out integers from float numpy array\n",
        "\n",
        "ini_array = np.array([1.0, 1.2, 2.2, 2.0, 3.0, 2.0])\n",
        "  \n",
        "print (\"initial array : \", str(ini_array))\n",
        "  \n",
        "result = ini_array[ini_array != ini_array.astype(int)]\n",
        "  \n",
        "print (\"final array\", result)"
      ],
      "execution_count": null,
      "outputs": [
        {
          "output_type": "stream",
          "text": [
            "initial array :  [1.  1.2 2.2 2.  3.  2. ]\n",
            "final array [1.2 2.2]\n"
          ],
          "name": "stdout"
        }
      ]
    },
    {
      "cell_type": "code",
      "metadata": {
        "colab": {
          "base_uri": "https://localhost:8080/"
        },
        "id": "zgnHc2Blikkp",
        "outputId": "e5754ef9-e052-4a2d-d579-d9282cda1dcf"
      },
      "source": [
        "#Find the indices into a sorted array\n",
        "\n",
        "in_arr = np.array([[ 2, 0, 1], [ 5, 4, 3]]) \n",
        "print (\"Input array :\\n\", in_arr)  \n",
        "    \n",
        "out_arr1 = np.argsort(in_arr, kind ='mergesort', axis = 0) \n",
        "print (\"\\nOutput sorteded array indices along axis 0:\\n\", out_arr1) \n",
        "  \n",
        "out_arr2 = np.argsort(in_arr, kind ='heapsort', axis = 1) \n",
        "print (\"\\nOutput sorteded array indices along axis 1:\\n\", out_arr2) "
      ],
      "execution_count": null,
      "outputs": [
        {
          "output_type": "stream",
          "text": [
            "Input array :\n",
            " [[2 0 1]\n",
            " [5 4 3]]\n",
            "\n",
            "Output sorteded array indices along axis 0:\n",
            " [[0 0 0]\n",
            " [1 1 1]]\n",
            "\n",
            "Output sorteded array indices along axis 1:\n",
            " [[1 2 0]\n",
            " [2 1 0]]\n"
          ],
          "name": "stdout"
        }
      ]
    },
    {
      "cell_type": "markdown",
      "metadata": {
        "id": "iRqVU_ehjUZt"
      },
      "source": [
        "#Questions on NumPy Mathematics\n"
      ]
    },
    {
      "cell_type": "code",
      "metadata": {
        "colab": {
          "base_uri": "https://localhost:8080/"
        },
        "id": "gPAvvKX0i-qs",
        "outputId": "ebc5bed2-3379-4b5a-ba4e-ab78b2efbfb1"
      },
      "source": [
        "#How to get element-wise true division of an array using Numpy?\n",
        "\n",
        "x = np.arange(5)\n",
        "  \n",
        "print(\"Original array:\", \n",
        "      x)\n",
        "  \n",
        "# apply true division \n",
        "# on each array element\n",
        "rslt = np.true_divide(x, 4)\n",
        "  \n",
        "print(\"After the element-wise division:\", \n",
        "      rslt)"
      ],
      "execution_count": null,
      "outputs": [
        {
          "output_type": "stream",
          "text": [
            "Original array: [0 1 2 3 4]\n",
            "After the element-wise division: [0.   0.25 0.5  0.75 1.  ]\n"
          ],
          "name": "stdout"
        }
      ]
    },
    {
      "cell_type": "code",
      "metadata": {
        "colab": {
          "base_uri": "https://localhost:8080/"
        },
        "id": "5yPkgiCzjgfQ",
        "outputId": "8ee911af-6864-491f-91b3-71816da080e5"
      },
      "source": [
        "#How to calculate the element-wise absolute value of NumPy array?\n",
        "\n",
        "array = np.array([\n",
        "    [[1, -2, 3],\n",
        "     [-4, 5, -6]],\n",
        "                   \n",
        "    [[-7.5, -8.22, 9.0],\n",
        "     [10.0, 11.5, -12.5]]\n",
        "                 ])\n",
        "  \n",
        "print(\"Given array:\\n\",\n",
        "      array)\n",
        "  \n",
        "# find element-wise\n",
        "# absolute value \n",
        "rslt = np.absolute(array)\n",
        "  \n",
        "print(\"Absolute array:\\n\",\n",
        "      rslt)"
      ],
      "execution_count": null,
      "outputs": [
        {
          "output_type": "stream",
          "text": [
            "Given array:\n",
            " [[[  1.    -2.     3.  ]\n",
            "  [ -4.     5.    -6.  ]]\n",
            "\n",
            " [[ -7.5   -8.22   9.  ]\n",
            "  [ 10.    11.5  -12.5 ]]]\n",
            "Absolute array:\n",
            " [[[ 1.    2.    3.  ]\n",
            "  [ 4.    5.    6.  ]]\n",
            "\n",
            " [[ 7.5   8.22  9.  ]\n",
            "  [10.   11.5  12.5 ]]]\n"
          ],
          "name": "stdout"
        }
      ]
    },
    {
      "cell_type": "code",
      "metadata": {
        "colab": {
          "base_uri": "https://localhost:8080/"
        },
        "id": "Niy3zo4Yjun_",
        "outputId": "75218242-bd16-4f29-b678-1f275e490ce1"
      },
      "source": [
        "#Compute the negative of the NumPy array\n",
        "\n",
        "in_arr = np.array([[2, -7, 5], [-6, 2, 0]])\n",
        "   \n",
        "print (\"Input array : \\n\", in_arr) \n",
        "    \n",
        "out_arr = np.negative(in_arr) \n",
        "print (\"negative of array elements: \\n\", out_arr) "
      ],
      "execution_count": null,
      "outputs": [
        {
          "output_type": "stream",
          "text": [
            "Input array : \n",
            " [[ 2 -7  5]\n",
            " [-6  2  0]]\n",
            "negative of array elements: \n",
            " [[-2  7 -5]\n",
            " [ 6 -2  0]]\n"
          ],
          "name": "stdout"
        }
      ]
    },
    {
      "cell_type": "code",
      "metadata": {
        "colab": {
          "base_uri": "https://localhost:8080/"
        },
        "id": "t7u6uNFrj-kj",
        "outputId": "eeef8ff1-91a1-4e8b-97ee-57ec770b7b41"
      },
      "source": [
        "#Multiply 2d numpy array corresponding to 1d array\n",
        "\n",
        "ini_array1 = np.array([[1, 2, 3], [2, 4, 5], [1, 2, 3]])\n",
        "ini_array2 = np.array([0, 2, 3])\n",
        "  \n",
        "print(\"initial array\\n\", str(ini_array1))\n",
        "  \n",
        "result = ini_array1 * ini_array2[:, np.newaxis]\n",
        "  \n",
        "print(\"New resulting array: \\n\", result)"
      ],
      "execution_count": null,
      "outputs": [
        {
          "output_type": "stream",
          "text": [
            "initial array\n",
            " [[1 2 3]\n",
            " [2 4 5]\n",
            " [1 2 3]]\n",
            "New resulting array: \n",
            " [[ 0  0  0]\n",
            " [ 4  8 10]\n",
            " [ 3  6  9]]\n"
          ],
          "name": "stdout"
        }
      ]
    },
    {
      "cell_type": "code",
      "metadata": {
        "colab": {
          "base_uri": "https://localhost:8080/"
        },
        "id": "ivuSDqnqkOPb",
        "outputId": "073da9c4-3e9a-4b37-bb55-d1c8e29639d4"
      },
      "source": [
        "#Computes the inner product of two arrays\n",
        "\n",
        "a = np.array([1,2,3])\n",
        "b = np.array([0,1,0])\n",
        "np.inner(a, b)"
      ],
      "execution_count": null,
      "outputs": [
        {
          "output_type": "execute_result",
          "data": {
            "text/plain": [
              "2"
            ]
          },
          "metadata": {
            "tags": []
          },
          "execution_count": 88
        }
      ]
    },
    {
      "cell_type": "code",
      "metadata": {
        "colab": {
          "base_uri": "https://localhost:8080/"
        },
        "id": "kg_GJTQDklR2",
        "outputId": "3a43283a-45a1-4e52-ea7e-fe9caae2819b"
      },
      "source": [
        "#Compute the nth percentile of the NumPy array\n",
        "arr = [20, 2, 7, 1, 34]\n",
        "print(\"arr : \", arr)\n",
        "print(\"50th percentile of arr : \",\n",
        "       np.percentile(arr, 50))\n",
        "print(\"25th percentile of arr : \",\n",
        "       np.percentile(arr, 25))\n",
        "print(\"75th percentile of arr : \",\n",
        "       np.percentile(arr, 75))"
      ],
      "execution_count": null,
      "outputs": [
        {
          "output_type": "stream",
          "text": [
            "arr :  [20, 2, 7, 1, 34]\n",
            "50th percentile of arr :  7.0\n",
            "25th percentile of arr :  2.0\n",
            "75th percentile of arr :  20.0\n"
          ],
          "name": "stdout"
        }
      ]
    },
    {
      "cell_type": "code",
      "metadata": {
        "colab": {
          "base_uri": "https://localhost:8080/"
        },
        "id": "-rDz5hCXlGcn",
        "outputId": "82d4bedd-6a07-4fc3-b3cc-93bdb75152c9"
      },
      "source": [
        "#Calculate the n-th order discrete difference along the given axis\n",
        "\n",
        "arr=np.array([1,2,3,4,5])\n",
        "print(\"Input array  : \", arr) \n",
        "print(\"First order difference  : \", np.diff(arr, n=1)) \n",
        "print(\"Second order difference : \", np.diff(arr, n = 2)) \n",
        "print(\"Third order difference  : \", np.diff(arr, n = 3))"
      ],
      "execution_count": null,
      "outputs": [
        {
          "output_type": "stream",
          "text": [
            "Input array  :  [1 2 3 4 5]\n",
            "First order difference  :  [1 1 1 1]\n",
            "Second order difference :  [0 0 0]\n",
            "Third order difference  :  [0 0]\n"
          ],
          "name": "stdout"
        }
      ]
    },
    {
      "cell_type": "code",
      "metadata": {
        "colab": {
          "base_uri": "https://localhost:8080/"
        },
        "id": "dH2WsnuJled2",
        "outputId": "2015334e-87e4-4c7c-80da-3480df80f690"
      },
      "source": [
        "#Calculate the sum of all columns in a 2D NumPy array\n",
        "\n",
        "TwoDList = [[1, 2, 3], [4, 5, 6], \n",
        "            [7, 8, 9], [10, 11, 12]]\n",
        "TwoDArray = np.array(TwoDList)\n",
        "  \n",
        "print(\"2D Array:\")\n",
        "print(TwoDArray)\n",
        "  \n",
        "print(\"\\nColumn-wise Sum:\")\n",
        "print(np.sum(TwoDArray, axis = 0))"
      ],
      "execution_count": null,
      "outputs": [
        {
          "output_type": "stream",
          "text": [
            "2D Array:\n",
            "[[ 1  2  3]\n",
            " [ 4  5  6]\n",
            " [ 7  8  9]\n",
            " [10 11 12]]\n",
            "\n",
            "Column-wise Sum:\n",
            "[22 26 30]\n"
          ],
          "name": "stdout"
        }
      ]
    },
    {
      "cell_type": "code",
      "metadata": {
        "colab": {
          "base_uri": "https://localhost:8080/"
        },
        "id": "v-vbSJ1Zl4xV",
        "outputId": "e0536e10-1123-4536-8e4c-3d1f2f47f96c"
      },
      "source": [
        "#Calculate average values of two given NumPy arrays\n",
        "\n",
        "arr1 = np.array([3, 4])\n",
        "arr2 = np.array([1, 0])\n",
        "  \n",
        "avg = (arr1 + arr2) / 2\n",
        "  \n",
        "print(\"Average of NumPy arrays:\\n\",avg)"
      ],
      "execution_count": null,
      "outputs": [
        {
          "output_type": "stream",
          "text": [
            "Average of NumPy arrays:\n",
            " [2. 2.]\n"
          ],
          "name": "stdout"
        }
      ]
    },
    {
      "cell_type": "code",
      "metadata": {
        "colab": {
          "base_uri": "https://localhost:8080/"
        },
        "id": "yTAeCcJdmWh7",
        "outputId": "35251d6a-32ce-4104-c70c-4741c922545e"
      },
      "source": [
        "#How to compute numerical negative value for all elements in a given NumPy array?\n",
        "\n",
        "x = np.array([-1, -2, -3,\n",
        "              1, 2, 3, 0])\n",
        " \n",
        "print(\"Printing the Original array:\",\n",
        "      x)\n",
        " \n",
        "\n",
        "r1 = np.negative(x)\n",
        " \n",
        "print(\"Printing the negative value of the given array:\",\n",
        "      r1)"
      ],
      "execution_count": null,
      "outputs": [
        {
          "output_type": "stream",
          "text": [
            "Printing the Original array: [-1 -2 -3  1  2  3  0]\n",
            "Printing the negative value of the given array: [ 1  2  3 -1 -2 -3  0]\n"
          ],
          "name": "stdout"
        }
      ]
    },
    {
      "cell_type": "code",
      "metadata": {
        "colab": {
          "base_uri": "https://localhost:8080/"
        },
        "id": "XdQH6pKqncBb",
        "outputId": "2c778af1-6ae5-4173-f0d4-9825d791ed67"
      },
      "source": [
        "#How to get the floor, ceiling and truncated values of the elements of a numpy array?\n",
        "\n",
        "\n",
        "a = np.array([-1.8, -1.6, -0.5, 0.5,\n",
        "              1.6, 1.8, 3.0])\n",
        "print(np.floor(a))\n",
        "print(np.ceil(a))\n",
        "\n",
        "b = np.array([-1.8, -1.6, -0.5, 0.5,\n",
        "              1.6, 1.8, 3.0])\n",
        "  \n",
        "print(np.trunc(b))"
      ],
      "execution_count": null,
      "outputs": [
        {
          "output_type": "stream",
          "text": [
            "[-2. -2. -1.  0.  1.  1.  3.]\n",
            "[-1. -1. -0.  1.  2.  2.  3.]\n",
            "[-1. -1. -0.  0.  1.  1.  3.]\n"
          ],
          "name": "stdout"
        }
      ]
    },
    {
      "cell_type": "code",
      "metadata": {
        "colab": {
          "base_uri": "https://localhost:8080/"
        },
        "id": "nBS6shXPnw25",
        "outputId": "6cdf46c0-c409-4133-ba32-214e6bbfe3a2"
      },
      "source": [
        "#How to round elements of the NumPy array to the nearest integer?\n",
        "\n",
        "a = np.array([-1.7, -1.5, -0.2, 0.2, 1.5, 1.7, 2.0])\n",
        "np.rint(a)"
      ],
      "execution_count": null,
      "outputs": [
        {
          "output_type": "execute_result",
          "data": {
            "text/plain": [
              "array([-2., -2., -0.,  0.,  2.,  2.,  2.])"
            ]
          },
          "metadata": {
            "tags": []
          },
          "execution_count": 99
        }
      ]
    },
    {
      "cell_type": "code",
      "metadata": {
        "colab": {
          "base_uri": "https://localhost:8080/"
        },
        "id": "UwUNgKSBo5vR",
        "outputId": "acfa82dd-97af-4cfb-b5ca-cda6c9db9690"
      },
      "source": [
        "#Find the round off the values of the given matrix\n",
        "\n",
        "gfg = np.matrix('[6.4, 1.3; 12.7, 32.3]')\n",
        "           \n",
        "geeks = gfg.round()\n",
        "     \n",
        "print(geeks)"
      ],
      "execution_count": null,
      "outputs": [
        {
          "output_type": "stream",
          "text": [
            "[[ 6.  1.]\n",
            " [13. 32.]]\n"
          ],
          "name": "stdout"
        }
      ]
    },
    {
      "cell_type": "code",
      "metadata": {
        "colab": {
          "base_uri": "https://localhost:8080/"
        },
        "id": "CfEJSGerpGKZ",
        "outputId": "8269f743-5e6b-40b9-979b-8b512427cd71"
      },
      "source": [
        "#Determine the positive square-root of an array\n",
        "\n",
        "arr1 = np.sqrt([1, 4, 9, 16])\n",
        "arr2 = np.sqrt([6, 10, 18])\n",
        "  \n",
        "print(\"square-root of an array1  : \", arr1)\n",
        "print(\"square-root of an array2  : \", arr2)"
      ],
      "execution_count": null,
      "outputs": [
        {
          "output_type": "stream",
          "text": [
            "square-root of an array1  :  [1. 2. 3. 4.]\n",
            "square-root of an array2  :  [2.44948974 3.16227766 4.24264069]\n"
          ],
          "name": "stdout"
        }
      ]
    },
    {
      "cell_type": "code",
      "metadata": {
        "colab": {
          "base_uri": "https://localhost:8080/"
        },
        "id": "pHS4TxK1pUF0",
        "outputId": "6dbf504f-8d89-414d-bcb6-0677aa2ae270"
      },
      "source": [
        "#Evaluate Einstein’s summation convention of two multidimensional NumPy arrays\n",
        "\n",
        "matrix1 = np.array([[1, 2], [0, 2]])\n",
        "matrix2 = np.array([[0, 1], [3, 4]])\n",
        "  \n",
        "print(\"Original matrix:\")\n",
        "print(matrix1)\n",
        "print(matrix2)\n",
        "  \n",
        "result = np.einsum(\"mk,kn\", matrix1, matrix2)\n",
        "  \n",
        "print(\"Einstein’s summation convention of the two matrix:\")\n",
        "print(result)"
      ],
      "execution_count": null,
      "outputs": [
        {
          "output_type": "stream",
          "text": [
            "Original matrix:\n",
            "[[1 2]\n",
            " [0 2]]\n",
            "[[0 1]\n",
            " [3 4]]\n",
            "Einstein’s summation convention of the two matrix:\n",
            "[[6 9]\n",
            " [6 8]]\n"
          ],
          "name": "stdout"
        }
      ]
    },
    {
      "cell_type": "markdown",
      "metadata": {
        "id": "d5z3xKIEp9hM"
      },
      "source": [
        "#Questions on NumPy Statistics\n"
      ]
    },
    {
      "cell_type": "code",
      "metadata": {
        "colab": {
          "base_uri": "https://localhost:8080/"
        },
        "id": "-PGZ97A6pzmr",
        "outputId": "5b95a100-48ef-4ac1-b1a6-f395e2e7446b"
      },
      "source": [
        "#Compute the median of the flattened NumPy array\n",
        "\n",
        "x_odd = np.array([1, 2, 3, 4, 5, 6, 7])\n",
        "print(\"\\nPrinting the Original array:\")\n",
        "print(x_odd)\n",
        "  \n",
        "med_odd = np.median(x_odd)\n",
        "print(\"\\nMedian of the array that contains \\\n",
        "odd no of elements:\")\n",
        "print(med_odd)"
      ],
      "execution_count": null,
      "outputs": [
        {
          "output_type": "stream",
          "text": [
            "\n",
            "Printing the Original array:\n",
            "[1 2 3 4 5 6 7]\n",
            "\n",
            "Median of the array that contains odd no of elements:\n",
            "4.0\n"
          ],
          "name": "stdout"
        }
      ]
    },
    {
      "cell_type": "code",
      "metadata": {
        "colab": {
          "base_uri": "https://localhost:8080/"
        },
        "id": "M8XXvFd9qSRy",
        "outputId": "b8b6cc5f-f1e3-4393-f23d-d8ddb6615172"
      },
      "source": [
        "#Find Mean of a List of Numpy Array\n",
        "\n",
        "\n",
        "Input = [np.array([1, 2, 3]),\n",
        "         np.array([4, 5, 6]),\n",
        "         np.array([7, 8, 9])]\n",
        "  \n",
        "Output = []\n",
        "  \n",
        "for i in range(len(Input)):\n",
        "   Output.append(np.mean(Input[i]))\n",
        "  \n",
        "print(Output)"
      ],
      "execution_count": null,
      "outputs": [
        {
          "output_type": "stream",
          "text": [
            "[2.0, 5.0, 8.0]\n"
          ],
          "name": "stdout"
        }
      ]
    },
    {
      "cell_type": "code",
      "metadata": {
        "colab": {
          "base_uri": "https://localhost:8080/"
        },
        "id": "qwhou_vTqdsf",
        "outputId": "92d36bfc-bc36-4cbe-b9fe-a2d9d5a9453c"
      },
      "source": [
        "#Calculate the mean of array ignoring the NaN value\n",
        "\n",
        "arr = np.array([[20, 15, 37], [47, 13, np.nan]])\n",
        "   \n",
        "print(\"Shape of array is\", arr.shape)\n",
        "   \n",
        "print(\"Mean of array without using nanmean function:\",\n",
        "                                           np.mean(arr))\n",
        "   \n",
        "print(\"Using nanmean function:\", np.nanmean(arr))"
      ],
      "execution_count": null,
      "outputs": [
        {
          "output_type": "stream",
          "text": [
            "Shape of array is (2, 3)\n",
            "Mean of array without using nanmean function: nan\n",
            "Using nanmean function: 26.4\n"
          ],
          "name": "stdout"
        }
      ]
    },
    {
      "cell_type": "code",
      "metadata": {
        "colab": {
          "base_uri": "https://localhost:8080/"
        },
        "id": "tXk8kX75rEA1",
        "outputId": "7c877dac-f0ac-4eef-9a65-03f05d38dec1"
      },
      "source": [
        "#Get the mean value from given matrix\n",
        "\n",
        "x = np.matrix(np.arange(12).reshape((3, 4)))\n",
        "x.mean(0)"
      ],
      "execution_count": null,
      "outputs": [
        {
          "output_type": "execute_result",
          "data": {
            "text/plain": [
              "matrix([[4., 5., 6., 7.]])"
            ]
          },
          "metadata": {
            "tags": []
          },
          "execution_count": 113
        }
      ]
    },
    {
      "cell_type": "code",
      "metadata": {
        "colab": {
          "base_uri": "https://localhost:8080/"
        },
        "id": "whSEpe6erj5u",
        "outputId": "c3b4743d-42d8-427f-8498-6891e2bc2922"
      },
      "source": [
        "#Compute the variance of the NumPy array      \n",
        " \n",
        "arr = [20, 2, 7, 1, 34] \n",
        "  \n",
        "print(\"arr : \", arr) \n",
        "print(\"var of arr : \", np.var(arr)) "
      ],
      "execution_count": null,
      "outputs": [
        {
          "output_type": "stream",
          "text": [
            "arr :  [20, 2, 7, 1, 34]\n",
            "var of arr :  158.16\n"
          ],
          "name": "stdout"
        }
      ]
    },
    {
      "cell_type": "code",
      "metadata": {
        "colab": {
          "base_uri": "https://localhost:8080/"
        },
        "id": "wSry92i1rySK",
        "outputId": "5502a5de-3abe-47eb-a916-0d0d6c73bc75"
      },
      "source": [
        "#Compute the standard deviation of the NumPy array\n",
        "\n",
        "a = np.array([14, 8, 11, 10, 7, 9, 10, 11, 10, 15, 5, 10])\n",
        "np.std(a)"
      ],
      "execution_count": null,
      "outputs": [
        {
          "output_type": "execute_result",
          "data": {
            "text/plain": [
              "2.614064523559687"
            ]
          },
          "metadata": {
            "tags": []
          },
          "execution_count": 116
        }
      ]
    },
    {
      "cell_type": "code",
      "metadata": {
        "colab": {
          "base_uri": "https://localhost:8080/"
        },
        "id": "FBRhcYsBtLId",
        "outputId": "5c726ca3-16ff-4cc4-9f45-08444899976f"
      },
      "source": [
        "#Compute pearson product-moment correlation coefficients of two given NumPy arrays\n",
        "\n",
        "\n",
        "array1 = np.array([0, 1, 2])\n",
        "array2 = np.array([3, 4, 5])\n",
        "  \n",
        "\n",
        "rslt = np.corrcoef(array1, array2)\n",
        "  \n",
        "print(rslt)"
      ],
      "execution_count": null,
      "outputs": [
        {
          "output_type": "stream",
          "text": [
            "[[1. 1.]\n",
            " [1. 1.]]\n"
          ],
          "name": "stdout"
        }
      ]
    },
    {
      "cell_type": "code",
      "metadata": {
        "colab": {
          "base_uri": "https://localhost:8080/"
        },
        "id": "7x6kgHwyttRR",
        "outputId": "0918b1dd-36dd-475a-869f-db42a9224e39"
      },
      "source": [
        "#Calculate the mean across dimension in a 2D NumPy array\n",
        "\n",
        "\n",
        "x = np.array([[10, 30], [20, 60]])\n",
        "print(\"Original array:\")\n",
        "print(x)\n",
        "print(\"Mean of each column:\")\n",
        "print(x.mean(axis=0))\n",
        "print(\"Mean of each row:\")\n",
        "print(x.mean(axis=1))"
      ],
      "execution_count": null,
      "outputs": [
        {
          "output_type": "stream",
          "text": [
            "Original array:\n",
            "[[10 30]\n",
            " [20 60]]\n",
            "Mean of each column:\n",
            "[15. 45.]\n",
            "Mean of each row:\n",
            "[20. 40.]\n"
          ],
          "name": "stdout"
        }
      ]
    },
    {
      "cell_type": "code",
      "metadata": {
        "colab": {
          "base_uri": "https://localhost:8080/"
        },
        "id": "ixn3ZpyKuDcb",
        "outputId": "094e55fa-efcd-4825-b86b-d4aae66d99bf"
      },
      "source": [
        "#Calculate the average, variance and standard deviation in Python using NumPy\n",
        "\n",
        "list = [2, 4, 4, 4, 5, 5, 7, 9]\n",
        "  \n",
        "print(np.average(list))\n",
        "print(np.var(list))\n",
        "print(np.std(list))\n"
      ],
      "execution_count": null,
      "outputs": [
        {
          "output_type": "stream",
          "text": [
            "5.0\n",
            "4.0\n",
            "2.0\n"
          ],
          "name": "stdout"
        }
      ]
    },
    {
      "cell_type": "code",
      "metadata": {
        "colab": {
          "base_uri": "https://localhost:8080/"
        },
        "id": "hZFln32fu6a1",
        "outputId": "4a81f125-2c19-423c-ff5c-5b19205de226"
      },
      "source": [
        "arr = np.array([4, 5, 8, 5, 6, 4,\n",
        "                9, 2, 4, 3, 6])    \n",
        "  \n",
        "print(\"measures of central tendency\")\n",
        "mean = np.mean(arr)\n",
        "median = np.median(arr)\n",
        "  \n",
        "print(\"Array =\", arr)\n",
        "print(\"Mean =\", mean)\n",
        "print(\"Median =\", median)\n",
        "\n",
        "# measures of dispersion\n",
        "min = np.amin(arr)\n",
        "max = np.amax(arr)\n",
        "range = np.ptp(arr)\n",
        "varience = np.var(arr)\n",
        "sd = np.std(arr)\n",
        "  \n",
        "print(\"\\n\\nMeasures of Dispersion\")\n",
        "print(\"Minimum =\", min)\n",
        "print(\"Maximum =\", max)\n",
        "print(\"Range =\", range)\n",
        "print(\"Varience =\", varience)\n",
        "print(\"Standard Deviation =\", sd)"
      ],
      "execution_count": null,
      "outputs": [
        {
          "output_type": "stream",
          "text": [
            "measures of central tendency\n",
            "Array = [4 5 8 5 6 4 9 2 4 3 6]\n",
            "Mean = 5.090909090909091\n",
            "Median = 5.0\n",
            "\n",
            "\n",
            "Measures of Dispersion\n",
            "Minimum = 2\n",
            "Maximum = 9\n",
            "Range = 7\n",
            "Varience = 3.9008264462809916\n",
            "Standard Deviation = 1.9750509984000393\n"
          ],
          "name": "stdout"
        }
      ]
    },
    {
      "cell_type": "markdown",
      "metadata": {
        "id": "L6UPcxAfvegT"
      },
      "source": [
        "#Questions on Polynomial\n"
      ]
    },
    {
      "cell_type": "code",
      "metadata": {
        "colab": {
          "base_uri": "https://localhost:8080/"
        },
        "id": "n5Z9PW9uvNpz",
        "outputId": "8b6acb8d-7a7a-477d-d500-bab75eb42e0a"
      },
      "source": [
        "#Define a polynomial function\n",
        "np.poly1d([3,2,1])"
      ],
      "execution_count": null,
      "outputs": [
        {
          "output_type": "execute_result",
          "data": {
            "text/plain": [
              "poly1d([3, 2, 1])"
            ]
          },
          "metadata": {
            "tags": []
          },
          "execution_count": 126
        }
      ]
    },
    {
      "cell_type": "code",
      "metadata": {
        "colab": {
          "base_uri": "https://localhost:8080/"
        },
        "id": "XUCrI-nSwcYf",
        "outputId": "5c02cb3e-d29e-4839-9b3a-4efc131249c1"
      },
      "source": [
        "#How to add one polynomial to another using NumPy in Python?\n",
        "\n",
        "px = (5,-2,5)\n",
        "  \n",
        "qx = (2,-5,2)\n",
        "\n",
        "rx = np.polynomial.polynomial.polyadd(px,qx)\n",
        "  \n",
        "print(rx)"
      ],
      "execution_count": null,
      "outputs": [
        {
          "output_type": "stream",
          "text": [
            "[ 7. -7.  7.]\n"
          ],
          "name": "stdout"
        }
      ]
    },
    {
      "cell_type": "code",
      "metadata": {
        "colab": {
          "base_uri": "https://localhost:8080/"
        },
        "id": "xplGFTkgw6R4",
        "outputId": "d49e670f-eaf3-4453-bf4d-12645489ae1f"
      },
      "source": [
        "#How to subtract one polynomial to another using NumPy in Python?\n",
        "\n",
        "\n",
        "px = (5,-2,5)  \n",
        "qx = (2,-5,2)\n",
        "rx = np.polynomial.polynomial.polysub(px,qx)\n",
        "print(rx)"
      ],
      "execution_count": null,
      "outputs": [
        {
          "output_type": "stream",
          "text": [
            "[3. 3. 3.]\n"
          ],
          "name": "stdout"
        }
      ]
    },
    {
      "cell_type": "code",
      "metadata": {
        "colab": {
          "base_uri": "https://localhost:8080/"
        },
        "id": "MNWCV9O9xKRl",
        "outputId": "6e98f4e1-b938-44a2-c010-079f4a0afea8"
      },
      "source": [
        "#How to multiply a polynomial to another using NumPy in Python?\n",
        "\n",
        "px = (5, -2, 5)\n",
        "qx = (2, -5, 2)\n",
        "  \n",
        "rx = np.polynomial.polynomial.polymul(px, qx)\n",
        "  \n",
        "print(rx)"
      ],
      "execution_count": null,
      "outputs": [
        {
          "output_type": "stream",
          "text": [
            "[ 10. -29.  30. -29.  10.]\n"
          ],
          "name": "stdout"
        }
      ]
    },
    {
      "cell_type": "code",
      "metadata": {
        "colab": {
          "base_uri": "https://localhost:8080/"
        },
        "id": "NKN0oitjxoFr",
        "outputId": "8f4d8908-0d2b-454d-ea6e-e0550931af08"
      },
      "source": [
        "#How to divide a polynomial to another using NumPy in Python?\n",
        "\n",
        "\n",
        "px = (5, -2, 5)\n",
        "  \n",
        "gx = (2, 1, 0)\n",
        "  \n",
        "qx, rx = np.polynomial.polynomial.polydiv(px, gx)\n",
        "  \n",
        "# quotiient\n",
        "print(qx)\n",
        "  \n",
        "# remainder\n",
        "print(rx)"
      ],
      "execution_count": null,
      "outputs": [
        {
          "output_type": "stream",
          "text": [
            "[-12.   5.]\n",
            "[29.]\n"
          ],
          "name": "stdout"
        }
      ]
    },
    {
      "cell_type": "code",
      "metadata": {
        "colab": {
          "base_uri": "https://localhost:8080/"
        },
        "id": "OMYt6QNUx4rR",
        "outputId": "c48d1520-4b91-44df-b101-5474d64d0c5c"
      },
      "source": [
        "#Find the roots of the polynomials using NumPy\n",
        "\n",
        "coeff = [1, 3, 2, 1]\n",
        "print(np.roots(coeff))"
      ],
      "execution_count": null,
      "outputs": [
        {
          "output_type": "stream",
          "text": [
            "[-2.32471796+0.j         -0.33764102+0.56227951j -0.33764102-0.56227951j]\n"
          ],
          "name": "stdout"
        }
      ]
    },
    {
      "cell_type": "code",
      "metadata": {
        "colab": {
          "base_uri": "https://localhost:8080/"
        },
        "id": "qaS2gbaoyEEd",
        "outputId": "bb44f0b1-eebc-426f-a163-1cc32d006bb7"
      },
      "source": [
        "#Evaluate a 2-D polynomial series on the Cartesian product\n",
        "\n",
        "\n",
        "c = np.array([[1, 3, 5], [2, 4, 6]]) \n",
        "  \n",
        "# using np.polygrid2d() method \n",
        "ans = np.polynomial.polynomial.polygrid2d([7, 9], [8, 10], c)\n",
        "print(ans)"
      ],
      "execution_count": null,
      "outputs": [
        {
          "output_type": "stream",
          "text": [
            "[[3271. 5025.]\n",
            " [4107. 6309.]]\n"
          ],
          "name": "stdout"
        }
      ]
    },
    {
      "cell_type": "code",
      "metadata": {
        "colab": {
          "base_uri": "https://localhost:8080/"
        },
        "id": "P6OVJLpbydoQ",
        "outputId": "3647bf41-ab94-4da8-c267-5f1651eed413"
      },
      "source": [
        "#Evaluate a 3-D polynomial series on the Cartesian product\n",
        "\n",
        "c = np.array([[1, 3, 5], [2, 4, 6], [10, 11, 12]]) \n",
        "  \n",
        "# using np.polygrid3d() method \n",
        "ans = np.polynomial.polynomial.polygrid3d([7, 9], [8, 10], [5, 6], c)\n",
        "print(ans)"
      ],
      "execution_count": null,
      "outputs": [
        {
          "output_type": "stream",
          "text": [
            "[[416970. 491223.]\n",
            " [635850. 749079.]]\n"
          ],
          "name": "stdout"
        }
      ]
    },
    {
      "cell_type": "markdown",
      "metadata": {
        "id": "leEVJzuiJW16"
      },
      "source": [
        "#Questions on NumPy Strings"
      ]
    },
    {
      "cell_type": "code",
      "metadata": {
        "colab": {
          "base_uri": "https://localhost:8080/"
        },
        "id": "Aeek87z4yiUB",
        "outputId": "2d82a793-c1d6-4c46-8fc0-eed6453eb450"
      },
      "source": [
        "#Repeat all the elements of a NumPy array of strings\n",
        "\n",
        "arr = np.array(['Akash', 'Rohit', 'Ayush', \n",
        "                'Dhruv', 'Radhika'], dtype = np.str)\n",
        "print(\"Original Array :\")\n",
        "print(arr)\n",
        "  \n",
        "# with the help of np.char.multiply()\n",
        "# repeating the characters 3 times\n",
        "new_array = np.char.multiply(arr, 3)\n",
        "print(\"\\nNew array :\")\n",
        "print(new_array)"
      ],
      "execution_count": null,
      "outputs": [
        {
          "output_type": "stream",
          "text": [
            "Original Array :\n",
            "['Akash' 'Rohit' 'Ayush' 'Dhruv' 'Radhika']\n",
            "\n",
            "New array :\n",
            "['AkashAkashAkash' 'RohitRohitRohit' 'AyushAyushAyush' 'DhruvDhruvDhruv'\n",
            " 'RadhikaRadhikaRadhika']\n"
          ],
          "name": "stdout"
        }
      ]
    },
    {
      "cell_type": "code",
      "metadata": {
        "colab": {
          "base_uri": "https://localhost:8080/"
        },
        "id": "G-dHGnWnJdrw",
        "outputId": "78e6b2c1-7cab-430b-cf0e-9e58103b6af6"
      },
      "source": [
        "#How to split the element of a given NumPy array with spaces?\n",
        "\n",
        "array = np.array(['PHP C# Python C Java C++'], dtype=np.str)\n",
        "print(array)\n",
        "  \n",
        "# Split the element of the said array with spaces\n",
        "sparr = np.char.split(array)\n",
        "print(sparr)"
      ],
      "execution_count": null,
      "outputs": [
        {
          "output_type": "stream",
          "text": [
            "['PHP C# Python C Java C++']\n",
            "[list(['PHP', 'C#', 'Python', 'C', 'Java', 'C++'])]\n"
          ],
          "name": "stdout"
        }
      ]
    },
    {
      "cell_type": "code",
      "metadata": {
        "colab": {
          "base_uri": "https://localhost:8080/"
        },
        "id": "RtS2BTzyJucY",
        "outputId": "6e31435c-c80e-4c5b-f8fc-0a0399c0628a"
      },
      "source": [
        "#. How to insert a space between characters of all the elements of a given NumPy array?\n",
        "x = np.array([\"geeks\", \"for\", \"geeks\"],\n",
        "             dtype=np.str)\n",
        "print(\"Printing the Original Array:\")\n",
        "print(x)\n",
        "  \n",
        "# inserting space using np.char.join()\n",
        "r = np.char.join(\" \", x)\n",
        "print(\"Printing the array after inserting space\\\n",
        "between the elements\")\n",
        "print(r)"
      ],
      "execution_count": null,
      "outputs": [
        {
          "output_type": "stream",
          "text": [
            "Printing the Original Array:\n",
            "['geeks' 'for' 'geeks']\n",
            "Printing the array after inserting spacebetween the elements\n",
            "['g e e k s' 'f o r' 'g e e k s']\n"
          ],
          "name": "stdout"
        }
      ]
    },
    {
      "cell_type": "code",
      "metadata": {
        "colab": {
          "base_uri": "https://localhost:8080/"
        },
        "id": "W9Dm9c7qJy12",
        "outputId": "c949d4c0-9900-4065-b0d0-8880741ae22a"
      },
      "source": [
        "#Find the length of each string element in the Numpy array\n",
        "\n",
        "arr = np.array(['New York', 'Lisbon', 'Beijing', 'Quebec'])\n",
        "  \n",
        "# Print the array\n",
        "print(arr)\n",
        "\n",
        "length_checker = np.vectorize(len)\n",
        "  \n",
        "# Find the length of each element\n",
        "arr_len = length_checker(arr)\n",
        "  \n",
        "# Print the length of each element\n",
        "print(arr_len)"
      ],
      "execution_count": null,
      "outputs": [
        {
          "output_type": "stream",
          "text": [
            "['New York' 'Lisbon' 'Beijing' 'Quebec']\n",
            "[8 6 7 6]\n"
          ],
          "name": "stdout"
        }
      ]
    },
    {
      "cell_type": "code",
      "metadata": {
        "colab": {
          "base_uri": "https://localhost:8080/"
        },
        "id": "R1feaCEEKbTH",
        "outputId": "6ccff049-dfd8-49ce-e89d-4edbeca234ee"
      },
      "source": [
        "#Swap the case of an array of string\n",
        "in_arr = np.array(['P4Q R', '4q Rp', 'Q Rp4', 'rp4q'])\n",
        "print (\"input array : \", in_arr)\n",
        "  \n",
        "out_arr = np.char.swapcase(in_arr)\n",
        "print (\"output swapcasecased array :\", out_arr)"
      ],
      "execution_count": null,
      "outputs": [
        {
          "output_type": "stream",
          "text": [
            "input array :  ['P4Q R' '4q Rp' 'Q Rp4' 'rp4q']\n",
            "output swapcasecased array : ['p4q r' '4Q rP' 'q rP4' 'RP4Q']\n"
          ],
          "name": "stdout"
        }
      ]
    },
    {
      "cell_type": "code",
      "metadata": {
        "colab": {
          "base_uri": "https://localhost:8080/"
        },
        "id": "f0kuBirFKl_i",
        "outputId": "cbd29d30-e81d-43d4-d90a-2864e1c40f38"
      },
      "source": [
        "#Change the case to uppercase of elements of an array\n",
        "c = np.array(['a1b c', '1bca', 'bca1'])\n",
        "np.char.upper(c)"
      ],
      "execution_count": null,
      "outputs": [
        {
          "output_type": "execute_result",
          "data": {
            "text/plain": [
              "array(['A1B C', '1BCA', 'BCA1'], dtype='<U5')"
            ]
          },
          "metadata": {
            "tags": []
          },
          "execution_count": 16
        }
      ]
    },
    {
      "cell_type": "code",
      "metadata": {
        "colab": {
          "base_uri": "https://localhost:8080/"
        },
        "id": "qspV143QKsJk",
        "outputId": "40464daf-818e-4d9d-a415-be5991fcffbd"
      },
      "source": [
        "#Change the case to lowercase of elements of an array\n",
        "c = np.array(['A1B C', '1BCA', 'BCA1'])\n",
        "np.char.lower(c)"
      ],
      "execution_count": null,
      "outputs": [
        {
          "output_type": "execute_result",
          "data": {
            "text/plain": [
              "array(['a1b c', '1bca', 'bca1'], dtype='<U5')"
            ]
          },
          "metadata": {
            "tags": []
          },
          "execution_count": 17
        }
      ]
    },
    {
      "cell_type": "code",
      "metadata": {
        "colab": {
          "base_uri": "https://localhost:8080/"
        },
        "id": "V0OKkfgRKuOf",
        "outputId": "f0de4adc-dcee-4388-a78a-f24d0efd1acf"
      },
      "source": [
        "#Join String by a seperator\n",
        "in_arr = np.array(['Python', 'Numpy', 'Pandas'])\n",
        "print (\"Input original array : \", in_arr) \n",
        "  \n",
        "# creating the separator\n",
        "sep = np.array(['-', '+', '*'])\n",
        "  \n",
        "  \n",
        "out_arr = np.core.defchararray.join(sep, in_arr)\n",
        "print (\"Output joined array: \", out_arr) "
      ],
      "execution_count": null,
      "outputs": [
        {
          "output_type": "stream",
          "text": [
            "Input original array :  ['Python' 'Numpy' 'Pandas']\n",
            "Output joined array:  ['P-y-t-h-o-n' 'N+u+m+p+y' 'P*a*n*d*a*s']\n"
          ],
          "name": "stdout"
        }
      ]
    },
    {
      "cell_type": "code",
      "metadata": {
        "colab": {
          "base_uri": "https://localhost:8080/"
        },
        "id": "mdCrOruAKvwe",
        "outputId": "ba158325-10a1-4b45-9cb5-49324a7aa58b"
      },
      "source": [
        "#Check if two same shaped string arrayss one by one\n",
        "\n",
        "in_arr1 = np.array('numpy')\n",
        "print (\"1st Input array : \", in_arr1)\n",
        "  \n",
        "in_arr2 = np.array('numpy')\n",
        "print (\"2nd Input array : \", in_arr2)  \n",
        "  \n",
        "# checking if they are equal\n",
        "out_arr = np.char.equal(in_arr1, in_arr2)\n",
        "print (\"Output array: \", out_arr) \n"
      ],
      "execution_count": null,
      "outputs": [
        {
          "output_type": "stream",
          "text": [
            "1st Input array :  numpy\n",
            "2nd Input array :  numpy\n",
            "Output array:  True\n"
          ],
          "name": "stdout"
        }
      ]
    },
    {
      "cell_type": "code",
      "metadata": {
        "colab": {
          "base_uri": "https://localhost:8080/"
        },
        "id": "LJ0imadoKzHf",
        "outputId": "f8048dd2-62e3-4f4e-9559-bc07cc5eb844"
      },
      "source": [
        "#Count the number of substrings in an array\n",
        "in_arr = np.array(['Sayantan', '  Sayan  ', 'Sayansubhra'])\n",
        "print (\"Input array : \", in_arr) \n",
        "  \n",
        "# output arrays \n",
        "out_arr = np.char.count(in_arr, sub ='an')\n",
        "print (\"Output array: \", out_arr) "
      ],
      "execution_count": null,
      "outputs": [
        {
          "output_type": "stream",
          "text": [
            "Input array :  ['Sayantan' '  Sayan  ' 'Sayansubhra']\n",
            "Output array:  [2 1 1]\n"
          ],
          "name": "stdout"
        }
      ]
    },
    {
      "cell_type": "code",
      "metadata": {
        "colab": {
          "base_uri": "https://localhost:8080/"
        },
        "id": "40CsPsHUK0zy",
        "outputId": "9fc2ad05-b454-4866-a9a3-4aa4ef91dc9e"
      },
      "source": [
        "#Find the lowest index of the substring in an array\n",
        "a = np.char.find('Hello', 'World', start=0, end=None)\n",
        "a"
      ],
      "execution_count": null,
      "outputs": [
        {
          "output_type": "execute_result",
          "data": {
            "text/plain": [
              "array(-1)"
            ]
          },
          "metadata": {
            "tags": []
          },
          "execution_count": 21
        }
      ]
    },
    {
      "cell_type": "code",
      "metadata": {
        "id": "nfxYG9J_K2mO"
      },
      "source": [
        "#Get the boolean array when values end with a particular character\n"
      ],
      "execution_count": null,
      "outputs": []
    },
    {
      "cell_type": "markdown",
      "metadata": {
        "id": "wZsbURD2Mhrk"
      },
      "source": [
        "#More Questions on NumPy\n"
      ]
    },
    {
      "cell_type": "code",
      "metadata": {
        "colab": {
          "base_uri": "https://localhost:8080/"
        },
        "id": "0y-eQAKVK7Mm",
        "outputId": "8a8d538c-7597-42ed-8708-0182704ad474"
      },
      "source": [
        "#Different ways to convert a Python dictionary to a NumPy array\n",
        "\n",
        "dict_created = {0: 0, 1: 1, 2: 8, 3: 27,\n",
        "                4: 64, 5: 125, 6: 216}\n",
        "  \n",
        "# printing type of dictionary created\n",
        "print(type(dict_created))\n",
        "  \n",
        "# converting dictionary to \n",
        "# numpy array \n",
        "res_array = np.array(list(dict_created.items()))\n",
        "  \n",
        "# printing the converted array\n",
        "print(res_array)\n",
        "  \n",
        "# printing type of converted array\n",
        "print(type(res_array))"
      ],
      "execution_count": null,
      "outputs": [
        {
          "output_type": "stream",
          "text": [
            "<class 'dict'>\n",
            "[[  0   0]\n",
            " [  1   1]\n",
            " [  2   8]\n",
            " [  3  27]\n",
            " [  4  64]\n",
            " [  5 125]\n",
            " [  6 216]]\n",
            "<class 'numpy.ndarray'>\n"
          ],
          "name": "stdout"
        }
      ]
    },
    {
      "cell_type": "code",
      "metadata": {
        "colab": {
          "base_uri": "https://localhost:8080/"
        },
        "id": "a359ICo9K8tC",
        "outputId": "96bc7e5d-905f-4fff-8dcb-899ec41445c3"
      },
      "source": [
        "#How to convert a list and tuple into NumPy arrays?\n",
        "\n",
        "  \n",
        "# list\n",
        "list1 = [1, 2, 3]\n",
        "print(type(list1))\n",
        "print(list1)\n",
        "print()\n",
        "  \n",
        "# conversion\n",
        "array1 = np.array(list1)\n",
        "print(type(array1))\n",
        "print(array1)\n",
        "print()\n",
        "  \n",
        "# tuple\n",
        "tuple1 = ((1, 2, 3))\n",
        "print(type(tuple1))\n",
        "print(tuple1)\n",
        "print()\n",
        "  \n",
        "# conversion\n",
        "array2 = np.array(tuple1)\n",
        "print(type(array2))\n",
        "print(array2)\n",
        "print()\n",
        "  \n",
        "# list, array and tuple\n",
        "array3 = np.array([tuple1, list1, array2])\n",
        "print(type(array3))\n",
        "print(array3)"
      ],
      "execution_count": null,
      "outputs": [
        {
          "output_type": "stream",
          "text": [
            "<class 'list'>\n",
            "[1, 2, 3]\n",
            "\n",
            "<class 'numpy.ndarray'>\n",
            "[1 2 3]\n",
            "\n",
            "<class 'tuple'>\n",
            "(1, 2, 3)\n",
            "\n",
            "<class 'numpy.ndarray'>\n",
            "[1 2 3]\n",
            "\n",
            "<class 'numpy.ndarray'>\n",
            "[[1 2 3]\n",
            " [1 2 3]\n",
            " [1 2 3]]\n"
          ],
          "name": "stdout"
        }
      ]
    },
    {
      "cell_type": "code",
      "metadata": {
        "colab": {
          "base_uri": "https://localhost:8080/"
        },
        "id": "BAGFrr4cLAZd",
        "outputId": "e170a758-0ac1-4ffa-b773-8a75317d99f2"
      },
      "source": [
        "#Ways to convert array of strings to array of floats\n",
        "\n",
        "string_array = np.array([\"1.1\", \"2.2\", \"3.3\"])\n",
        "float_array = string_array.astype(np.float)\n",
        "\n",
        "print(float_array)"
      ],
      "execution_count": null,
      "outputs": [
        {
          "output_type": "stream",
          "text": [
            "[1.1 2.2 3.3]\n"
          ],
          "name": "stdout"
        }
      ]
    },
    {
      "cell_type": "code",
      "metadata": {
        "colab": {
          "base_uri": "https://localhost:8080/"
        },
        "id": "odQfNGYRLCpy",
        "outputId": "64328615-9db9-4592-ef34-ec49a6859f9e"
      },
      "source": [
        "#Convert a NumPy array into a csv file\n",
        "\n",
        "import pandas as pd\n",
        "\n",
        "arr = np.arange(1,11).reshape(2,5)\n",
        "  \n",
        "# display the array\n",
        "print(arr)\n",
        "  \n",
        "# convert array into dataframe\n",
        "DF = pd.DataFrame(arr)\n",
        "  \n",
        "# save the dataframe as a csv file\n",
        "DF.to_csv(\"data1.csv\")"
      ],
      "execution_count": null,
      "outputs": [
        {
          "output_type": "stream",
          "text": [
            "[[ 1  2  3  4  5]\n",
            " [ 6  7  8  9 10]]\n"
          ],
          "name": "stdout"
        }
      ]
    },
    {
      "cell_type": "code",
      "metadata": {
        "id": "zaiqiQzALEnD"
      },
      "source": [
        "#How to Convert an image to NumPy array and save it to CSV file using Python?\n",
        "\n",
        "from PIL import Image\n",
        "  \n",
        "# read an image\n",
        "img = Image.open('example.jpg')\n",
        "  \n",
        "# convert image object into array\n",
        "imageToMatrice = np.asarray(img)\n",
        "  \n",
        "# printing shape of image\n",
        "print(imageToMatrice.shape)"
      ],
      "execution_count": null,
      "outputs": []
    },
    {
      "cell_type": "code",
      "metadata": {
        "id": "EhV26-6cLFZH"
      },
      "source": [
        "#How to save a NumPy array to a text file?\n",
        "\n",
        "x = y = z = np.arange(0.0,5.0,1.0)\n",
        "np.savetxt('test.out', x, delimiter=',')   # X is an array\n",
        "np.savetxt('test.out', (x,y,z))   # x,y,z equal sized 1D arrays\n",
        "np.savetxt('test.out', x, fmt='%1.4e')   # use exponential notation"
      ],
      "execution_count": null,
      "outputs": []
    },
    {
      "cell_type": "code",
      "metadata": {
        "id": "DZUzZyRjLHL1"
      },
      "source": [
        "#Load data from a text file\n",
        "File_data = np.loadtxt(\"example1.txt\", dtype=int)\n",
        "print(File_data)"
      ],
      "execution_count": null,
      "outputs": []
    },
    {
      "cell_type": "code",
      "metadata": {
        "colab": {
          "base_uri": "https://localhost:8080/",
          "height": 295
        },
        "id": "9ayILmA5LJ2u",
        "outputId": "02ffb4a5-4b85-4305-aea6-6a6cb5bb341d"
      },
      "source": [
        "#Plot line graph from NumPy array\n",
        "\n",
        "import matplotlib.pyplot as plt\n",
        " \n",
        "# data to be plotted\n",
        "x = np.arange(1, 11)\n",
        "y = x * x\n",
        " \n",
        "# plotting\n",
        "plt.title(\"Line graph\")\n",
        "plt.xlabel(\"X axis\")\n",
        "plt.ylabel(\"Y axis\")\n",
        "plt.plot(x, y, color =\"red\")\n",
        "plt.show()"
      ],
      "execution_count": null,
      "outputs": [
        {
          "output_type": "display_data",
          "data": {
            "image/png": "[encoded data removed]",
            "text/plain": [
              "<Figure size 432x288 with 1 Axes>"
            ]
          },
          "metadata": {
            "tags": [],
            "needs_background": "light"
          }
        }
      ]
    },
    {
      "cell_type": "code",
      "metadata": {
        "colab": {
          "base_uri": "https://localhost:8080/",
          "height": 281
        },
        "id": "mIB6FKk8LLaY",
        "outputId": "83049abb-d97e-407e-b530-31b74d1c4b3f"
      },
      "source": [
        "#Create Histogram using NumPy\n",
        "import matplotlib.pyplot as plt\n",
        "rng = np.random.RandomState(10)  # deterministic random data\n",
        "a = np.hstack((rng.normal(size=1000),\n",
        "               rng.normal(loc=5, scale=2, size=1000)))\n",
        "_ = plt.hist(a, bins='auto')  # arguments are passed to np.histogram\n",
        "plt.title(\"Histogram with 'auto' bins\")\n",
        "plt.show()"
      ],
      "execution_count": null,
      "outputs": [
        {
          "output_type": "display_data",
          "data": {
            "image/png": "[encoded data removed]",
            "text/plain": [
              "<Figure size 432x288 with 1 Axes>"
            ]
          },
          "metadata": {
            "tags": [],
            "needs_background": "light"
          }
        }
      ]
    }
  ]
}